{
 "cells": [
  {
   "cell_type": "markdown",
   "metadata": {},
   "source": [
    "## Reference:\n",
    "\n",
    "The setup of the metric, the Christoffel symbols, the Riemann, and Ricci tensors are duplicated from \n",
    "https://github.com/wojciechczaja/GraviPy/blob/master/docs/GraviPy-tutorial.ipynb"
   ]
  },
  {
   "cell_type": "code",
   "execution_count": 7,
   "metadata": {},
   "outputs": [],
   "source": [
    "import sympy as sp\n",
    "\n",
    "from sympy import symbols, diag, sin, cos\n",
    "\n",
    "from sympy import init_printing\n",
    "init_printing()\n",
    "\n",
    "from IPython.display import display, Math, Latex\n",
    "\n",
    "from gravipy.tensorial import Coordinates, MetricTensor,\\\n",
    "Christoffel, Riemann, Ricci, Tensor, variations, All"
   ]
  },
  {
   "cell_type": "code",
   "execution_count": 2,
   "metadata": {},
   "outputs": [],
   "source": [
    "# define symbols\n",
    "t, x, y, z, b = symbols('t, x, y, z, b',real=True)\n",
    "n = symbols('n',integer=True)"
   ]
  },
  {
   "cell_type": "markdown",
   "metadata": {},
   "source": [
    "#### Early universe metric"
   ]
  },
  {
   "cell_type": "code",
   "execution_count": 3,
   "metadata": {},
   "outputs": [],
   "source": [
    "## the Coordinates class\n",
    "x = Coordinates('\\chi', [t, x, y, z])\n",
    "\n",
    "## define a matrix equal to the metric\n",
    "a = b*t**n\n",
    "Metric = diag(-1,a**2,a**2,a**2) \n",
    "\n",
    "## create the metric\n",
    "g = MetricTensor('g', x, Metric)\n",
    "\n",
    "## the Christoffel\n",
    "Ga = Christoffel('Ga', g)\n",
    "\n",
    "## The Riemann tensor\n",
    "Rm = Riemann('Rm', g)"
   ]
  },
  {
   "cell_type": "code",
   "execution_count": 4,
   "metadata": {},
   "outputs": [
    {
     "data": {
      "image/png": "[encoded data removed]",
      "text/latex": [
       "$\\displaystyle \\left[\\begin{matrix}-1 & 0 & 0 & 0\\\\0 & b^{2} t^{2 n} & 0 & 0\\\\0 & 0 & b^{2} t^{2 n} & 0\\\\0 & 0 & 0 & b^{2} t^{2 n}\\end{matrix}\\right]$"
      ],
      "text/plain": [
       "⎡-1     0        0        0   ⎤\n",
       "⎢                             ⎥\n",
       "⎢     2  2⋅n                  ⎥\n",
       "⎢0   b ⋅t        0        0   ⎥\n",
       "⎢                             ⎥\n",
       "⎢              2  2⋅n         ⎥\n",
       "⎢0      0     b ⋅t        0   ⎥\n",
       "⎢                             ⎥\n",
       "⎢                       2  2⋅n⎥\n",
       "⎣0      0        0     b ⋅t   ⎦"
      ]
     },
     "execution_count": 4,
     "metadata": {},
     "output_type": "execute_result"
    }
   ],
   "source": [
    "## show the metric\n",
    "g(All,All)"
   ]
  },
  {
   "cell_type": "code",
   "execution_count": 5,
   "metadata": {},
   "outputs": [],
   "source": [
    "## the left hand side of LGT field equation\n",
    "## divergence of the Riemann tensor\n",
    "DRm = lambda i, k, l:\\\n",
    "(\\\n",
    " ## i,j,k,l are the Riemann tensor indices \n",
    " ## Note: here the convention of the paper is not followed\n",
    " ## Indices refer to space-time and not Lorentz frame\n",
    " ## m is the component of the covariant derivative\n",
    " ## -m and -j means the inverse metric g^{mj} is used not g_{mj}\n",
    " sum(Rm.covariantD(i, j, k, l, m)*g(-m,-j)\\\n",
    "      for m, j in list(variations(range(1,5),2,True))\\\n",
    " )\\\n",
    ").simplify()"
   ]
  },
  {
   "cell_type": "code",
   "execution_count": 6,
   "metadata": {
    "scrolled": true
   },
   "outputs": [
    {
     "data": {
      "text/latex": [
       "$\\displaystyle \\nabla^{\\nu}R_{2\\nu12}:$"
      ],
      "text/plain": [
       "<IPython.core.display.Math object>"
      ]
     },
     "metadata": {},
     "output_type": "display_data"
    },
    {
     "data": {
      "image/png": "[encoded data removed]",
      "text/latex": [
       "$\\displaystyle 2 b^{2} n t^{2 n - 3} \\left(2 n - 1\\right)$"
      ],
      "text/plain": [
       "   2    2⋅n - 3          \n",
       "2⋅b ⋅n⋅t       ⋅(2⋅n - 1)"
      ]
     },
     "metadata": {},
     "output_type": "display_data"
    },
    {
     "name": "stdout",
     "output_type": "stream",
     "text": [
      "--\n"
     ]
    },
    {
     "data": {
      "text/latex": [
       "$\\displaystyle \\nabla^{\\nu}R_{2\\nu21}:$"
      ],
      "text/plain": [
       "<IPython.core.display.Math object>"
      ]
     },
     "metadata": {},
     "output_type": "display_data"
    },
    {
     "data": {
      "image/png": "[encoded data removed]",
      "text/latex": [
       "$\\displaystyle - 2 b^{2} n t^{2 n - 3} \\left(2 n - 1\\right)$"
      ],
      "text/plain": [
       "    2    2⋅n - 3          \n",
       "-2⋅b ⋅n⋅t       ⋅(2⋅n - 1)"
      ]
     },
     "metadata": {},
     "output_type": "display_data"
    },
    {
     "name": "stdout",
     "output_type": "stream",
     "text": [
      "--\n"
     ]
    },
    {
     "data": {
      "text/latex": [
       "$\\displaystyle \\nabla^{\\nu}R_{3\\nu13}:$"
      ],
      "text/plain": [
       "<IPython.core.display.Math object>"
      ]
     },
     "metadata": {},
     "output_type": "display_data"
    },
    {
     "data": {
      "image/png": "[encoded data removed]",
      "text/latex": [
       "$\\displaystyle 2 b^{2} n t^{2 n - 3} \\left(2 n - 1\\right)$"
      ],
      "text/plain": [
       "   2    2⋅n - 3          \n",
       "2⋅b ⋅n⋅t       ⋅(2⋅n - 1)"
      ]
     },
     "metadata": {},
     "output_type": "display_data"
    },
    {
     "name": "stdout",
     "output_type": "stream",
     "text": [
      "--\n"
     ]
    },
    {
     "data": {
      "text/latex": [
       "$\\displaystyle \\nabla^{\\nu}R_{3\\nu31}:$"
      ],
      "text/plain": [
       "<IPython.core.display.Math object>"
      ]
     },
     "metadata": {},
     "output_type": "display_data"
    },
    {
     "data": {
      "image/png": "[encoded data removed]",
      "text/latex": [
       "$\\displaystyle - 2 b^{2} n t^{2 n - 3} \\left(2 n - 1\\right)$"
      ],
      "text/plain": [
       "    2    2⋅n - 3          \n",
       "-2⋅b ⋅n⋅t       ⋅(2⋅n - 1)"
      ]
     },
     "metadata": {},
     "output_type": "display_data"
    },
    {
     "name": "stdout",
     "output_type": "stream",
     "text": [
      "--\n"
     ]
    },
    {
     "data": {
      "text/latex": [
       "$\\displaystyle \\nabla^{\\nu}R_{4\\nu14}:$"
      ],
      "text/plain": [
       "<IPython.core.display.Math object>"
      ]
     },
     "metadata": {},
     "output_type": "display_data"
    },
    {
     "data": {
      "image/png": "[encoded data removed]",
      "text/latex": [
       "$\\displaystyle 2 b^{2} n t^{2 n - 3} \\left(2 n - 1\\right)$"
      ],
      "text/plain": [
       "   2    2⋅n - 3          \n",
       "2⋅b ⋅n⋅t       ⋅(2⋅n - 1)"
      ]
     },
     "metadata": {},
     "output_type": "display_data"
    },
    {
     "name": "stdout",
     "output_type": "stream",
     "text": [
      "--\n"
     ]
    },
    {
     "data": {
      "text/latex": [
       "$\\displaystyle \\nabla^{\\nu}R_{4\\nu41}:$"
      ],
      "text/plain": [
       "<IPython.core.display.Math object>"
      ]
     },
     "metadata": {},
     "output_type": "display_data"
    },
    {
     "data": {
      "image/png": "[encoded data removed]",
      "text/latex": [
       "$\\displaystyle - 2 b^{2} n t^{2 n - 3} \\left(2 n - 1\\right)$"
      ],
      "text/plain": [
       "    2    2⋅n - 3          \n",
       "-2⋅b ⋅n⋅t       ⋅(2⋅n - 1)"
      ]
     },
     "metadata": {},
     "output_type": "display_data"
    },
    {
     "name": "stdout",
     "output_type": "stream",
     "text": [
      "--\n"
     ]
    }
   ],
   "source": [
    "## display the left hand side of LGT field equation\n",
    "for i, k, l in list(variations(range(1, 5), 3, True)):\n",
    "    val = (DRm(i,k,l)).simplify()\n",
    "    if val != 0:\n",
    "        display(Math(r'\\nabla^{\\nu}R_{%d\\nu%d%d}:'\\\n",
    "                     %(i,k,l)),val)\n",
    "        print(\"--\")\n",
    "    \n"
   ]
  },
  {
   "cell_type": "markdown",
   "metadata": {},
   "source": [
    "Therefore, a = b*t^0.5 (n=1/2) is a solution"
   ]
  }
 ],
 "metadata": {
  "kernelspec": {
   "display_name": "Python 3",
   "language": "python",
   "name": "python3"
  },
  "language_info": {
   "codemirror_mode": {
    "name": "ipython",
    "version": 3
   },
   "file_extension": ".py",
   "mimetype": "text/x-python",
   "name": "python",
   "nbconvert_exporter": "python",
   "pygments_lexer": "ipython3",
   "version": "3.7.4"
  }
 },
 "nbformat": 4,
 "nbformat_minor": 2
}
