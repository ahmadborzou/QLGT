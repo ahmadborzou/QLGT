{
 "cells": [
  {
   "cell_type": "markdown",
   "metadata": {},
   "source": [
    "## Reference:\n",
    "\n",
    "The setup of the metric, the Christoffel symbols, the Riemann, and Ricci tensors are duplicated from \n",
    "https://github.com/wojciechczaja/GraviPy/blob/master/docs/GraviPy-tutorial.ipynb"
   ]
  },
  {
   "cell_type": "code",
   "execution_count": 1,
   "metadata": {},
   "outputs": [],
   "source": [
    "import sympy as sp\n",
    "\n",
    "from sympy import symbols, diag, sin, cos\n",
    "\n",
    "from sympy import init_printing\n",
    "init_printing()\n",
    "\n",
    "from gravipy.tensorial import Coordinates, MetricTensor,\\\n",
    "Christoffel, Riemann, Ricci, Tensor, variations, All\n",
    "\n",
    "from IPython.display import display, Math\n",
    "from sympy import latex"
   ]
  },
  {
   "cell_type": "code",
   "execution_count": 2,
   "metadata": {},
   "outputs": [],
   "source": [
    "# define symbols\n",
    "t, r, theta, phi, M, R, G = symbols('t, r, \\\\theta, \\phi, M, R\\\n",
    ",G',real=True)"
   ]
  },
  {
   "cell_type": "markdown",
   "metadata": {},
   "source": [
    "#### The Schwarzschild metric in matter"
   ]
  },
  {
   "cell_type": "code",
   "execution_count": 3,
   "metadata": {},
   "outputs": [
    {
     "data": {
      "text/latex": [
       "$\\displaystyle R_{1212} = \\frac{3 G M \\sqrt{- \\frac{2 G M}{R} + 1}}{2 R^{3} \\sqrt{- \\frac{2 G M r^{2}}{R^{3}} + 1}} - \\frac{G M}{2 R^{3}}$"
      ],
      "text/plain": [
       "<IPython.core.display.Math object>"
      ]
     },
     "metadata": {},
     "output_type": "display_data"
    },
    {
     "data": {
      "text/latex": [
       "$\\displaystyle R_{1313} = \\frac{G M r^{2} \\left(2 G M r^{2} + 3 R^{3} \\sqrt{\\frac{- 2 G M r^{2} + R^{3}}{R^{3}}} \\sqrt{\\frac{- 2 G M + R}{R}} - R^{3}\\right)}{2 R^{6}}$"
      ],
      "text/plain": [
       "<IPython.core.display.Math object>"
      ]
     },
     "metadata": {},
     "output_type": "display_data"
    },
    {
     "data": {
      "text/latex": [
       "$\\displaystyle R_{1414} = \\frac{G M r^{2} \\left(2 G M r^{2} + 3 R^{3} \\sqrt{\\frac{- 2 G M r^{2} + R^{3}}{R^{3}}} \\sqrt{\\frac{- 2 G M + R}{R}} - R^{3}\\right) \\sin^{2}{\\left(\\theta \\right)}}{2 R^{6}}$"
      ],
      "text/plain": [
       "<IPython.core.display.Math object>"
      ]
     },
     "metadata": {},
     "output_type": "display_data"
    },
    {
     "data": {
      "text/latex": [
       "$\\displaystyle R_{2323} = - \\frac{2 G M r^{2}}{2 G M r^{2} - R^{3}}$"
      ],
      "text/plain": [
       "<IPython.core.display.Math object>"
      ]
     },
     "metadata": {},
     "output_type": "display_data"
    },
    {
     "data": {
      "text/latex": [
       "$\\displaystyle R_{2424} = - \\frac{2 G M r^{2} \\sin^{2}{\\left(\\theta \\right)}}{2 G M r^{2} - R^{3}}$"
      ],
      "text/plain": [
       "<IPython.core.display.Math object>"
      ]
     },
     "metadata": {},
     "output_type": "display_data"
    },
    {
     "data": {
      "text/latex": [
       "$\\displaystyle R_{3434} = \\frac{2 G M r^{4} \\sin^{2}{\\left(\\theta \\right)}}{R^{3}}$"
      ],
      "text/plain": [
       "<IPython.core.display.Math object>"
      ]
     },
     "metadata": {},
     "output_type": "display_data"
    }
   ],
   "source": [
    "# the Coordinates class\n",
    "x = Coordinates('\\chi', [t, r, theta, phi])\n",
    "\n",
    "# define a matrix equal to the metric\n",
    "Metric = diag(\\\n",
    " -(sp.Rational(3,2)*sp.sqrt(1-2*G*M/R)\\\n",
    "   -sp.Rational(1,2)*sp.sqrt(1-2*G*M/R**3*r**2))**2,\\\n",
    "              1/(1-2*G*M/R**3*r**2), r**2, r**2*sin(theta)**2) \n",
    "\n",
    "\n",
    "# create the metric\n",
    "g = MetricTensor('g', x, Metric)\n",
    "\n",
    "# create the Christoffel\n",
    "Ga = Christoffel('Ga', g)\n",
    "\n",
    "## The Riemann tensor\n",
    "Rm = Riemann('Rm', g)\n",
    "\n",
    "## display the components of the Reimann tensor\n",
    "for i, j, k, l in list(variations(range(1, 5), 4, True)):\n",
    "    if Rm(i, j, k, l) != 0 and k<l and i<j:\n",
    "        display(Math('R_{'+str(i)+str(j)+str(k)+str(l)+'} = '+ latex(Rm(i, j, k, l))))"
   ]
  },
  {
   "cell_type": "code",
   "execution_count": 4,
   "metadata": {},
   "outputs": [
    {
     "data": {
      "image/png": "[encoded data removed]",
      "text/latex": [
       "$\\displaystyle \\left[\\begin{matrix}- \\left(\\frac{3 \\sqrt{- \\frac{2 G M}{R} + 1}}{2} - \\frac{\\sqrt{- \\frac{2 G M r^{2}}{R^{3}} + 1}}{2}\\right)^{2} & 0 & 0 & 0\\\\0 & \\frac{1}{- \\frac{2 G M r^{2}}{R^{3}} + 1} & 0 & 0\\\\0 & 0 & r^{2} & 0\\\\0 & 0 & 0 & r^{2} \\sin^{2}{\\left(\\theta \\right)}\\end{matrix}\\right]$"
      ],
      "text/plain": [
       "⎡                                               2                             \n",
       "⎢ ⎛                            ________________⎞                              \n",
       "⎢ ⎜                           ╱          2     ⎟                              \n",
       "⎢ ⎜      _____________       ╱    2⋅G⋅M⋅r      ⎟                              \n",
       "⎢ ⎜     ╱   2⋅G⋅M           ╱   - ──────── + 1 ⎟                              \n",
       "⎢ ⎜3⋅  ╱  - ───── + 1      ╱          3        ⎟                              \n",
       "⎢ ⎜  ╲╱       R          ╲╱          R         ⎟                              \n",
       "⎢-⎜─────────────────── - ──────────────────────⎟         0         0          \n",
       "⎢ ⎝         2                      2           ⎠                              \n",
       "⎢                                                                             \n",
       "⎢                                                        1                    \n",
       "⎢                       0                          ──────────────  0          \n",
       "⎢                                                           2                 \n",
       "⎢                                                    2⋅G⋅M⋅r                  \n",
       "⎢                                                  - ──────── + 1             \n",
       "⎢                                                        3                    \n",
       "⎢                                                       R                     \n",
       "⎢                                                                             \n",
       "⎢                                                                   2         \n",
       "⎢                       0                                0         r          \n",
       "⎢                                                                             \n",
       "⎢                                                                       2    2\n",
       "⎣                       0                                0         0   r ⋅sin \n",
       "\n",
       "        ⎤\n",
       "        ⎥\n",
       "        ⎥\n",
       "        ⎥\n",
       "        ⎥\n",
       "        ⎥\n",
       "        ⎥\n",
       "0       ⎥\n",
       "        ⎥\n",
       "        ⎥\n",
       "        ⎥\n",
       "0       ⎥\n",
       "        ⎥\n",
       "        ⎥\n",
       "        ⎥\n",
       "        ⎥\n",
       "        ⎥\n",
       "        ⎥\n",
       "        ⎥\n",
       "0       ⎥\n",
       "        ⎥\n",
       "        ⎥\n",
       "(\\theta)⎦"
      ]
     },
     "execution_count": 4,
     "metadata": {},
     "output_type": "execute_result"
    }
   ],
   "source": [
    "## display the metric\n",
    "g(All,All)"
   ]
  },
  {
   "cell_type": "code",
   "execution_count": 5,
   "metadata": {},
   "outputs": [],
   "source": [
    "## the left hand side of LGT field equation\n",
    "## divergence of the Riemann tensor\n",
    "DRm = lambda i, k, l:\\\n",
    "(\\\n",
    " ## i,j,k,l are the Riemann tensor indices \n",
    " ## Note: here the convention of the paper is not followed\n",
    " ## Indices refer to space-time and not Lorentz frame\n",
    " ## m is the component of the covariant derivative\n",
    " ## -m and -j means the inverse metric g^{mj} is used not g_{mj}\n",
    " sum(Rm.covariantD(i, j, k, l, m)*g(-m,-j)\\\n",
    "      for m, j in list(variations(range(1,5),2,True))\\\n",
    " )\\\n",
    ").simplify()"
   ]
  },
  {
   "cell_type": "code",
   "execution_count": 6,
   "metadata": {},
   "outputs": [],
   "source": [
    "## introduce the density and pressure\n",
    "rho = M/(4*sp.pi*R**3)*3\n",
    "p   = rho*(\n",
    "(sp.sqrt(1-2*G*M/R)\\\n",
    "   -sp.sqrt(1-2*G*M/R**3*r**2))/\n",
    "    (sp.sqrt(1-2*G*M/R**3*r**2)-3*sp.sqrt(1-2*G*M/R))\n",
    ")"
   ]
  },
  {
   "cell_type": "code",
   "execution_count": 8,
   "metadata": {},
   "outputs": [],
   "source": [
    "## Create the energy-momentum tensor\n",
    "## first make a matrix\n",
    "T_temp = diag(-rho,p,p,p)"
   ]
  },
  {
   "cell_type": "code",
   "execution_count": 9,
   "metadata": {},
   "outputs": [],
   "source": [
    "## convert the matrix to T^{\\mu}_{\\nu}\n",
    "T = Tensor('T',2,g,components=T_temp,components_type=(-1,1))"
   ]
  },
  {
   "cell_type": "code",
   "execution_count": 15,
   "metadata": {
    "scrolled": true
   },
   "outputs": [
    {
     "data": {
      "image/png": "[encoded data removed]",
      "text/latex": [
       "$\\displaystyle \\left[\\begin{matrix}\\frac{3 M \\left(\\frac{3 \\sqrt{- \\frac{2 G M}{R} + 1}}{2} - \\frac{\\sqrt{- \\frac{2 G M r^{2}}{R^{3}} + 1}}{2}\\right)^{2}}{4 \\pi R^{3}} & 0 & 0 & 0\\\\0 & \\frac{3 M \\left(\\sqrt{- \\frac{2 G M}{R} + 1} - \\sqrt{- \\frac{2 G M r^{2}}{R^{3}} + 1}\\right)}{4 \\pi R^{3} \\left(- \\frac{2 G M r^{2}}{R^{3}} + 1\\right) \\left(- 3 \\sqrt{- \\frac{2 G M}{R} + 1} + \\sqrt{- \\frac{2 G M r^{2}}{R^{3}} + 1}\\right)} & 0 & 0\\\\0 & 0 & \\frac{3 M r^{2} \\left(\\sqrt{- \\frac{2 G M}{R} + 1} - \\sqrt{- \\frac{2 G M r^{2}}{R^{3}} + 1}\\right)}{4 \\pi R^{3} \\left(- 3 \\sqrt{- \\frac{2 G M}{R} + 1} + \\sqrt{- \\frac{2 G M r^{2}}{R^{3}} + 1}\\right)} & 0\\\\0 & 0 & 0 & \\frac{3 M r^{2} \\left(\\sqrt{- \\frac{2 G M}{R} + 1} - \\sqrt{- \\frac{2 G M r^{2}}{R^{3}} + 1}\\right) \\sin^{2}{\\left(\\theta \\right)}}{4 \\pi R^{3} \\left(- 3 \\sqrt{- \\frac{2 G M}{R} + 1} + \\sqrt{- \\frac{2 G M r^{2}}{R^{3}} + 1}\\right)}\\end{matrix}\\right]$"
      ],
      "text/plain": [
       "⎡                                                  2                          \n",
       "⎢    ⎛                            ________________⎞                           \n",
       "⎢    ⎜                           ╱          2     ⎟                           \n",
       "⎢    ⎜      _____________       ╱    2⋅G⋅M⋅r      ⎟                           \n",
       "⎢    ⎜     ╱   2⋅G⋅M           ╱   - ──────── + 1 ⎟                           \n",
       "⎢    ⎜3⋅  ╱  - ───── + 1      ╱          3        ⎟                           \n",
       "⎢    ⎜  ╲╱       R          ╲╱          R         ⎟                           \n",
       "⎢3⋅M⋅⎜─────────────────── - ──────────────────────⎟                           \n",
       "⎢    ⎝         2                      2           ⎠                           \n",
       "⎢───────────────────────────────────────────────────                          \n",
       "⎢                            3                                                \n",
       "⎢                       4⋅π⋅R                                                 \n",
       "⎢                                                                             \n",
       "⎢                                                                     ⎛       \n",
       "⎢                                                                     ⎜    ___\n",
       "⎢                                                                     ⎜   ╱   \n",
       "⎢                                                                 3⋅M⋅⎜  ╱  - \n",
       "⎢                                                                     ⎜╲╱     \n",
       "⎢                                                                     ⎝       \n",
       "⎢                         0                           ────────────────────────\n",
       "⎢                                                                             \n",
       "⎢                                                            ⎛         2    ⎞ \n",
       "⎢                                                          3 ⎜  2⋅G⋅M⋅r     ⎟ \n",
       "⎢                                                     4⋅π⋅R ⋅⎜- ──────── + 1⎟⋅\n",
       "⎢                                                            ⎜      3       ⎟ \n",
       "⎢                                                            ⎝     R        ⎠ \n",
       "⎢                                                                             \n",
       "⎢                                                                             \n",
       "⎢                                                                             \n",
       "⎢                                                                             \n",
       "⎢                                                                             \n",
       "⎢                                                                             \n",
       "⎢                                                                             \n",
       "⎢                         0                                                   \n",
       "⎢                                                                             \n",
       "⎢                                                                             \n",
       "⎢                                                                             \n",
       "⎢                                                                             \n",
       "⎢                                                                             \n",
       "⎢                                                                             \n",
       "⎢                                                                             \n",
       "⎢                                                                             \n",
       "⎢                                                                             \n",
       "⎢                                                                             \n",
       "⎢                                                                             \n",
       "⎢                                                                             \n",
       "⎢                                                                             \n",
       "⎢                         0                                                   \n",
       "⎢                                                                             \n",
       "⎢                                                                             \n",
       "⎢                                                                             \n",
       "⎢                                                                             \n",
       "⎢                                                                             \n",
       "⎣                                                                             \n",
       "\n",
       "                                                                              \n",
       "                                                                              \n",
       "                                                                              \n",
       "                                                                              \n",
       "                                                                              \n",
       "                                                                              \n",
       "                                                                              \n",
       "                                                                              \n",
       "                                                                              \n",
       "           0                                                                 0\n",
       "                                                                              \n",
       "                                                                              \n",
       "                                                                              \n",
       "                   ________________⎞                                          \n",
       "__________        ╱          2     ⎟                                          \n",
       "2⋅G⋅M            ╱    2⋅G⋅M⋅r      ⎟                                          \n",
       "───── + 1  -    ╱   - ──────── + 1 ⎟                                          \n",
       "  R            ╱          3        ⎟                                          \n",
       "             ╲╱          R         ⎠                                          \n",
       "────────────────────────────────────────────────                             0\n",
       "⎛                              ________________⎞                              \n",
       "⎜        _____________        ╱          2     ⎟                              \n",
       "⎜       ╱   2⋅G⋅M            ╱    2⋅G⋅M⋅r      ⎟                              \n",
       "⎜- 3⋅  ╱  - ───── + 1  +    ╱   - ──────── + 1 ⎟                              \n",
       "⎜    ╲╱       R            ╱          3        ⎟                              \n",
       "⎝                        ╲╱          R         ⎠                              \n",
       "                                                                              \n",
       "                                                           ⎛                  \n",
       "                                                           ⎜    _____________ \n",
       "                                                         2 ⎜   ╱   2⋅G⋅M      \n",
       "                                                    3⋅M⋅r ⋅⎜  ╱  - ───── + 1  \n",
       "                                                           ⎜╲╱       R        \n",
       "                                                           ⎝                  \n",
       "           0                                      ────────────────────────────\n",
       "                                                         ⎛                    \n",
       "                                                         ⎜        ____________\n",
       "                                                       3 ⎜       ╱   2⋅G⋅M    \n",
       "                                                  4⋅π⋅R ⋅⎜- 3⋅  ╱  - ───── + 1\n",
       "                                                         ⎜    ╲╱       R      \n",
       "                                                         ⎝                    \n",
       "                                                                              \n",
       "                                                                              \n",
       "                                                                              \n",
       "                                                                              \n",
       "                                                                              \n",
       "                                                                              \n",
       "                                                                              \n",
       "           0                                                                 0\n",
       "                                                                              \n",
       "                                                                              \n",
       "                                                                              \n",
       "                                                                              \n",
       "                                                                              \n",
       "                                                                              \n",
       "\n",
       "                                                                              \n",
       "                                                                              \n",
       "                                                                              \n",
       "                                                                              \n",
       "                                                                              \n",
       "                                                                              \n",
       "                                                                              \n",
       "                                                                              \n",
       "                                                                              \n",
       "                                                            0                 \n",
       "                                                                              \n",
       "                                                                              \n",
       "                                                                              \n",
       "                                                                              \n",
       "                                                                              \n",
       "                                                                              \n",
       "                                                                              \n",
       "                                                                              \n",
       "                                                                              \n",
       "                                                            0                 \n",
       "                                                                              \n",
       "                                                                              \n",
       "                                                                              \n",
       "                                                                              \n",
       "                                                                              \n",
       "                                                                              \n",
       "                                                                              \n",
       "        ________________⎞                                                     \n",
       "       ╱          2     ⎟                                                     \n",
       "      ╱    2⋅G⋅M⋅r      ⎟                                                     \n",
       "-    ╱   - ──────── + 1 ⎟                                                     \n",
       "    ╱          3        ⎟                                                     \n",
       "  ╲╱          R         ⎠                                                     \n",
       "───────────────────────────                                 0                 \n",
       "          ________________⎞                                                   \n",
       "_        ╱          2     ⎟                                                   \n",
       "        ╱    2⋅G⋅M⋅r      ⎟                                                   \n",
       "  +    ╱   - ──────── + 1 ⎟                                                   \n",
       "      ╱          3        ⎟                                                   \n",
       "    ╲╱          R         ⎠                                                   \n",
       "                                                                              \n",
       "                                    ⎛                          _______________\n",
       "                                    ⎜    _____________        ╱          2    \n",
       "                                  2 ⎜   ╱   2⋅G⋅M            ╱    2⋅G⋅M⋅r     \n",
       "                             3⋅M⋅r ⋅⎜  ╱  - ───── + 1  -    ╱   - ──────── + 1\n",
       "                                    ⎜╲╱       R            ╱          3       \n",
       "                                    ⎝                    ╲╱          R        \n",
       "                             ─────────────────────────────────────────────────\n",
       "                                        ⎛                              _______\n",
       "                                        ⎜        _____________        ╱       \n",
       "                                      3 ⎜       ╱   2⋅G⋅M            ╱    2⋅G⋅\n",
       "                                 4⋅π⋅R ⋅⎜- 3⋅  ╱  - ───── + 1  +    ╱   - ────\n",
       "                                        ⎜    ╲╱       R            ╱          \n",
       "                                        ⎝                        ╲╱          R\n",
       "\n",
       "               ⎤\n",
       "               ⎥\n",
       "               ⎥\n",
       "               ⎥\n",
       "               ⎥\n",
       "               ⎥\n",
       "               ⎥\n",
       "               ⎥\n",
       "               ⎥\n",
       "               ⎥\n",
       "               ⎥\n",
       "               ⎥\n",
       "               ⎥\n",
       "               ⎥\n",
       "               ⎥\n",
       "               ⎥\n",
       "               ⎥\n",
       "               ⎥\n",
       "               ⎥\n",
       "               ⎥\n",
       "               ⎥\n",
       "               ⎥\n",
       "               ⎥\n",
       "               ⎥\n",
       "               ⎥\n",
       "               ⎥\n",
       "               ⎥\n",
       "               ⎥\n",
       "               ⎥\n",
       "               ⎥\n",
       "               ⎥\n",
       "               ⎥\n",
       "               ⎥\n",
       "               ⎥\n",
       "               ⎥\n",
       "               ⎥\n",
       "               ⎥\n",
       "               ⎥\n",
       "               ⎥\n",
       "               ⎥\n",
       "               ⎥\n",
       "_⎞             ⎥\n",
       " ⎟             ⎥\n",
       " ⎟    2        ⎥\n",
       " ⎟⋅sin (\\theta)⎥\n",
       " ⎟             ⎥\n",
       " ⎠             ⎥\n",
       "───────────────⎥\n",
       "_________⎞     ⎥\n",
       "   2     ⎟     ⎥\n",
       "M⋅r      ⎟     ⎥\n",
       "──── + 1 ⎟     ⎥\n",
       "3        ⎟     ⎥\n",
       "         ⎠     ⎦"
      ]
     },
     "execution_count": 15,
     "metadata": {},
     "output_type": "execute_result"
    }
   ],
   "source": [
    "## display the components of the energy momentum tensor\n",
    "T(All,All)"
   ]
  },
  {
   "cell_type": "code",
   "execution_count": 11,
   "metadata": {},
   "outputs": [],
   "source": [
    "## LGT source \n",
    "J = lambda i, k, l: -4*sp.pi*G*(\\\n",
    "                    T.covariantD(i,k,l) - T.covariantD(i,l,k)\\\n",
    "                               )"
   ]
  },
  {
   "cell_type": "code",
   "execution_count": null,
   "metadata": {
    "scrolled": true
   },
   "outputs": [
    {
     "data": {
      "text/latex": [
       "$\\displaystyle J_{111}:$"
      ],
      "text/plain": [
       "<IPython.core.display.Math object>"
      ]
     },
     "metadata": {},
     "output_type": "display_data"
    },
    {
     "data": {
      "image/png": "[encoded data removed]",
      "text/latex": [
       "$\\displaystyle 0$"
      ],
      "text/plain": [
       "0"
      ]
     },
     "metadata": {},
     "output_type": "display_data"
    },
    {
     "data": {
      "text/latex": [
       "$\\displaystyle \\nabla^{\\nu}R_{1\\nu11}-J_{111}:$"
      ],
      "text/plain": [
       "<IPython.core.display.Math object>"
      ]
     },
     "metadata": {},
     "output_type": "display_data"
    },
    {
     "data": {
      "image/png": "[encoded data removed]",
      "text/latex": [
       "$\\displaystyle 0$"
      ],
      "text/plain": [
       "0"
      ]
     },
     "metadata": {},
     "output_type": "display_data"
    },
    {
     "name": "stdout",
     "output_type": "stream",
     "text": [
      "--\n"
     ]
    },
    {
     "data": {
      "text/latex": [
       "$\\displaystyle J_{112}:$"
      ],
      "text/plain": [
       "<IPython.core.display.Math object>"
      ]
     },
     "metadata": {},
     "output_type": "display_data"
    },
    {
     "data": {
      "image/png": "[encoded data removed]",
      "text/latex": [
       "$\\displaystyle - \\frac{3 G^{2} M^{2} r \\sqrt{- \\frac{2 G M}{R} + 1}}{R^{6} \\sqrt{- \\frac{2 G M r^{2}}{R^{3}} + 1}}$"
      ],
      "text/plain": [
       "               _____________ \n",
       "    2  2      ╱   2⋅G⋅M      \n",
       "-3⋅G ⋅M ⋅r⋅  ╱  - ───── + 1  \n",
       "           ╲╱       R        \n",
       "─────────────────────────────\n",
       "           ________________  \n",
       "          ╱          2       \n",
       "   6     ╱    2⋅G⋅M⋅r        \n",
       "  R ⋅   ╱   - ──────── + 1   \n",
       "       ╱          3          \n",
       "     ╲╱          R           "
      ]
     },
     "metadata": {},
     "output_type": "display_data"
    },
    {
     "data": {
      "text/latex": [
       "$\\displaystyle \\nabla^{\\nu}R_{1\\nu12}-J_{112}:$"
      ],
      "text/plain": [
       "<IPython.core.display.Math object>"
      ]
     },
     "metadata": {},
     "output_type": "display_data"
    },
    {
     "data": {
      "image/png": "[encoded data removed]",
      "text/latex": [
       "$\\displaystyle 0$"
      ],
      "text/plain": [
       "0"
      ]
     },
     "metadata": {},
     "output_type": "display_data"
    },
    {
     "name": "stdout",
     "output_type": "stream",
     "text": [
      "--\n"
     ]
    },
    {
     "data": {
      "text/latex": [
       "$\\displaystyle J_{113}:$"
      ],
      "text/plain": [
       "<IPython.core.display.Math object>"
      ]
     },
     "metadata": {},
     "output_type": "display_data"
    },
    {
     "data": {
      "image/png": "[encoded data removed]",
      "text/latex": [
       "$\\displaystyle 0$"
      ],
      "text/plain": [
       "0"
      ]
     },
     "metadata": {},
     "output_type": "display_data"
    },
    {
     "data": {
      "text/latex": [
       "$\\displaystyle \\nabla^{\\nu}R_{1\\nu13}-J_{113}:$"
      ],
      "text/plain": [
       "<IPython.core.display.Math object>"
      ]
     },
     "metadata": {},
     "output_type": "display_data"
    },
    {
     "data": {
      "image/png": "[encoded data removed]",
      "text/latex": [
       "$\\displaystyle 0$"
      ],
      "text/plain": [
       "0"
      ]
     },
     "metadata": {},
     "output_type": "display_data"
    },
    {
     "name": "stdout",
     "output_type": "stream",
     "text": [
      "--\n"
     ]
    },
    {
     "data": {
      "text/latex": [
       "$\\displaystyle J_{114}:$"
      ],
      "text/plain": [
       "<IPython.core.display.Math object>"
      ]
     },
     "metadata": {},
     "output_type": "display_data"
    },
    {
     "data": {
      "image/png": "[encoded data removed]",
      "text/latex": [
       "$\\displaystyle 0$"
      ],
      "text/plain": [
       "0"
      ]
     },
     "metadata": {},
     "output_type": "display_data"
    },
    {
     "data": {
      "text/latex": [
       "$\\displaystyle \\nabla^{\\nu}R_{1\\nu14}-J_{114}:$"
      ],
      "text/plain": [
       "<IPython.core.display.Math object>"
      ]
     },
     "metadata": {},
     "output_type": "display_data"
    },
    {
     "data": {
      "image/png": "[encoded data removed]",
      "text/latex": [
       "$\\displaystyle 0$"
      ],
      "text/plain": [
       "0"
      ]
     },
     "metadata": {},
     "output_type": "display_data"
    },
    {
     "name": "stdout",
     "output_type": "stream",
     "text": [
      "--\n"
     ]
    },
    {
     "data": {
      "text/latex": [
       "$\\displaystyle J_{121}:$"
      ],
      "text/plain": [
       "<IPython.core.display.Math object>"
      ]
     },
     "metadata": {},
     "output_type": "display_data"
    },
    {
     "data": {
      "image/png": "[encoded data removed]",
      "text/latex": [
       "$\\displaystyle \\frac{3 G^{2} M^{2} r \\sqrt{- \\frac{2 G M}{R} + 1}}{R^{6} \\sqrt{- \\frac{2 G M r^{2}}{R^{3}} + 1}}$"
      ],
      "text/plain": [
       "              _____________\n",
       "   2  2      ╱   2⋅G⋅M     \n",
       "3⋅G ⋅M ⋅r⋅  ╱  - ───── + 1 \n",
       "          ╲╱       R       \n",
       "───────────────────────────\n",
       "          ________________ \n",
       "         ╱          2      \n",
       "  6     ╱    2⋅G⋅M⋅r       \n",
       " R ⋅   ╱   - ──────── + 1  \n",
       "      ╱          3         \n",
       "    ╲╱          R          "
      ]
     },
     "metadata": {},
     "output_type": "display_data"
    },
    {
     "data": {
      "text/latex": [
       "$\\displaystyle \\nabla^{\\nu}R_{1\\nu21}-J_{121}:$"
      ],
      "text/plain": [
       "<IPython.core.display.Math object>"
      ]
     },
     "metadata": {},
     "output_type": "display_data"
    },
    {
     "data": {
      "image/png": "[encoded data removed]",
      "text/latex": [
       "$\\displaystyle 0$"
      ],
      "text/plain": [
       "0"
      ]
     },
     "metadata": {},
     "output_type": "display_data"
    },
    {
     "name": "stdout",
     "output_type": "stream",
     "text": [
      "--\n"
     ]
    },
    {
     "data": {
      "text/latex": [
       "$\\displaystyle J_{122}:$"
      ],
      "text/plain": [
       "<IPython.core.display.Math object>"
      ]
     },
     "metadata": {},
     "output_type": "display_data"
    },
    {
     "data": {
      "image/png": "[encoded data removed]",
      "text/latex": [
       "$\\displaystyle 0$"
      ],
      "text/plain": [
       "0"
      ]
     },
     "metadata": {},
     "output_type": "display_data"
    },
    {
     "data": {
      "text/latex": [
       "$\\displaystyle \\nabla^{\\nu}R_{1\\nu22}-J_{122}:$"
      ],
      "text/plain": [
       "<IPython.core.display.Math object>"
      ]
     },
     "metadata": {},
     "output_type": "display_data"
    },
    {
     "data": {
      "image/png": "[encoded data removed]",
      "text/latex": [
       "$\\displaystyle 0$"
      ],
      "text/plain": [
       "0"
      ]
     },
     "metadata": {},
     "output_type": "display_data"
    },
    {
     "name": "stdout",
     "output_type": "stream",
     "text": [
      "--\n"
     ]
    },
    {
     "data": {
      "text/latex": [
       "$\\displaystyle J_{123}:$"
      ],
      "text/plain": [
       "<IPython.core.display.Math object>"
      ]
     },
     "metadata": {},
     "output_type": "display_data"
    },
    {
     "data": {
      "image/png": "[encoded data removed]",
      "text/latex": [
       "$\\displaystyle 0$"
      ],
      "text/plain": [
       "0"
      ]
     },
     "metadata": {},
     "output_type": "display_data"
    },
    {
     "data": {
      "text/latex": [
       "$\\displaystyle \\nabla^{\\nu}R_{1\\nu23}-J_{123}:$"
      ],
      "text/plain": [
       "<IPython.core.display.Math object>"
      ]
     },
     "metadata": {},
     "output_type": "display_data"
    },
    {
     "data": {
      "image/png": "[encoded data removed]",
      "text/latex": [
       "$\\displaystyle 0$"
      ],
      "text/plain": [
       "0"
      ]
     },
     "metadata": {},
     "output_type": "display_data"
    },
    {
     "name": "stdout",
     "output_type": "stream",
     "text": [
      "--\n"
     ]
    },
    {
     "data": {
      "text/latex": [
       "$\\displaystyle J_{124}:$"
      ],
      "text/plain": [
       "<IPython.core.display.Math object>"
      ]
     },
     "metadata": {},
     "output_type": "display_data"
    },
    {
     "data": {
      "image/png": "[encoded data removed]",
      "text/latex": [
       "$\\displaystyle 0$"
      ],
      "text/plain": [
       "0"
      ]
     },
     "metadata": {},
     "output_type": "display_data"
    },
    {
     "data": {
      "text/latex": [
       "$\\displaystyle \\nabla^{\\nu}R_{1\\nu24}-J_{124}:$"
      ],
      "text/plain": [
       "<IPython.core.display.Math object>"
      ]
     },
     "metadata": {},
     "output_type": "display_data"
    },
    {
     "data": {
      "image/png": "[encoded data removed]",
      "text/latex": [
       "$\\displaystyle 0$"
      ],
      "text/plain": [
       "0"
      ]
     },
     "metadata": {},
     "output_type": "display_data"
    },
    {
     "name": "stdout",
     "output_type": "stream",
     "text": [
      "--\n"
     ]
    },
    {
     "data": {
      "text/latex": [
       "$\\displaystyle J_{131}:$"
      ],
      "text/plain": [
       "<IPython.core.display.Math object>"
      ]
     },
     "metadata": {},
     "output_type": "display_data"
    },
    {
     "data": {
      "image/png": "[encoded data removed]",
      "text/latex": [
       "$\\displaystyle 0$"
      ],
      "text/plain": [
       "0"
      ]
     },
     "metadata": {},
     "output_type": "display_data"
    },
    {
     "data": {
      "text/latex": [
       "$\\displaystyle \\nabla^{\\nu}R_{1\\nu31}-J_{131}:$"
      ],
      "text/plain": [
       "<IPython.core.display.Math object>"
      ]
     },
     "metadata": {},
     "output_type": "display_data"
    },
    {
     "data": {
      "image/png": "[encoded data removed]",
      "text/latex": [
       "$\\displaystyle 0$"
      ],
      "text/plain": [
       "0"
      ]
     },
     "metadata": {},
     "output_type": "display_data"
    },
    {
     "name": "stdout",
     "output_type": "stream",
     "text": [
      "--\n"
     ]
    },
    {
     "data": {
      "text/latex": [
       "$\\displaystyle J_{132}:$"
      ],
      "text/plain": [
       "<IPython.core.display.Math object>"
      ]
     },
     "metadata": {},
     "output_type": "display_data"
    },
    {
     "data": {
      "image/png": "[encoded data removed]",
      "text/latex": [
       "$\\displaystyle 0$"
      ],
      "text/plain": [
       "0"
      ]
     },
     "metadata": {},
     "output_type": "display_data"
    },
    {
     "data": {
      "text/latex": [
       "$\\displaystyle \\nabla^{\\nu}R_{1\\nu32}-J_{132}:$"
      ],
      "text/plain": [
       "<IPython.core.display.Math object>"
      ]
     },
     "metadata": {},
     "output_type": "display_data"
    },
    {
     "data": {
      "image/png": "[encoded data removed]",
      "text/latex": [
       "$\\displaystyle 0$"
      ],
      "text/plain": [
       "0"
      ]
     },
     "metadata": {},
     "output_type": "display_data"
    },
    {
     "name": "stdout",
     "output_type": "stream",
     "text": [
      "--\n"
     ]
    },
    {
     "data": {
      "text/latex": [
       "$\\displaystyle J_{133}:$"
      ],
      "text/plain": [
       "<IPython.core.display.Math object>"
      ]
     },
     "metadata": {},
     "output_type": "display_data"
    },
    {
     "data": {
      "image/png": "[encoded data removed]",
      "text/latex": [
       "$\\displaystyle 0$"
      ],
      "text/plain": [
       "0"
      ]
     },
     "metadata": {},
     "output_type": "display_data"
    },
    {
     "data": {
      "text/latex": [
       "$\\displaystyle \\nabla^{\\nu}R_{1\\nu33}-J_{133}:$"
      ],
      "text/plain": [
       "<IPython.core.display.Math object>"
      ]
     },
     "metadata": {},
     "output_type": "display_data"
    },
    {
     "data": {
      "image/png": "[encoded data removed]",
      "text/latex": [
       "$\\displaystyle 0$"
      ],
      "text/plain": [
       "0"
      ]
     },
     "metadata": {},
     "output_type": "display_data"
    },
    {
     "name": "stdout",
     "output_type": "stream",
     "text": [
      "--\n"
     ]
    },
    {
     "data": {
      "text/latex": [
       "$\\displaystyle J_{134}:$"
      ],
      "text/plain": [
       "<IPython.core.display.Math object>"
      ]
     },
     "metadata": {},
     "output_type": "display_data"
    },
    {
     "data": {
      "image/png": "[encoded data removed]",
      "text/latex": [
       "$\\displaystyle 0$"
      ],
      "text/plain": [
       "0"
      ]
     },
     "metadata": {},
     "output_type": "display_data"
    },
    {
     "data": {
      "text/latex": [
       "$\\displaystyle \\nabla^{\\nu}R_{1\\nu34}-J_{134}:$"
      ],
      "text/plain": [
       "<IPython.core.display.Math object>"
      ]
     },
     "metadata": {},
     "output_type": "display_data"
    },
    {
     "data": {
      "image/png": "[encoded data removed]",
      "text/latex": [
       "$\\displaystyle 0$"
      ],
      "text/plain": [
       "0"
      ]
     },
     "metadata": {},
     "output_type": "display_data"
    },
    {
     "name": "stdout",
     "output_type": "stream",
     "text": [
      "--\n"
     ]
    },
    {
     "data": {
      "text/latex": [
       "$\\displaystyle J_{141}:$"
      ],
      "text/plain": [
       "<IPython.core.display.Math object>"
      ]
     },
     "metadata": {},
     "output_type": "display_data"
    },
    {
     "data": {
      "image/png": "[encoded data removed]",
      "text/latex": [
       "$\\displaystyle 0$"
      ],
      "text/plain": [
       "0"
      ]
     },
     "metadata": {},
     "output_type": "display_data"
    },
    {
     "data": {
      "text/latex": [
       "$\\displaystyle \\nabla^{\\nu}R_{1\\nu41}-J_{141}:$"
      ],
      "text/plain": [
       "<IPython.core.display.Math object>"
      ]
     },
     "metadata": {},
     "output_type": "display_data"
    },
    {
     "data": {
      "image/png": "[encoded data removed]",
      "text/latex": [
       "$\\displaystyle 0$"
      ],
      "text/plain": [
       "0"
      ]
     },
     "metadata": {},
     "output_type": "display_data"
    },
    {
     "name": "stdout",
     "output_type": "stream",
     "text": [
      "--\n"
     ]
    },
    {
     "data": {
      "text/latex": [
       "$\\displaystyle J_{142}:$"
      ],
      "text/plain": [
       "<IPython.core.display.Math object>"
      ]
     },
     "metadata": {},
     "output_type": "display_data"
    },
    {
     "data": {
      "image/png": "[encoded data removed]",
      "text/latex": [
       "$\\displaystyle 0$"
      ],
      "text/plain": [
       "0"
      ]
     },
     "metadata": {},
     "output_type": "display_data"
    },
    {
     "data": {
      "text/latex": [
       "$\\displaystyle \\nabla^{\\nu}R_{1\\nu42}-J_{142}:$"
      ],
      "text/plain": [
       "<IPython.core.display.Math object>"
      ]
     },
     "metadata": {},
     "output_type": "display_data"
    },
    {
     "data": {
      "image/png": "[encoded data removed]",
      "text/latex": [
       "$\\displaystyle 0$"
      ],
      "text/plain": [
       "0"
      ]
     },
     "metadata": {},
     "output_type": "display_data"
    },
    {
     "name": "stdout",
     "output_type": "stream",
     "text": [
      "--\n"
     ]
    },
    {
     "data": {
      "text/latex": [
       "$\\displaystyle J_{143}:$"
      ],
      "text/plain": [
       "<IPython.core.display.Math object>"
      ]
     },
     "metadata": {},
     "output_type": "display_data"
    },
    {
     "data": {
      "image/png": "[encoded data removed]",
      "text/latex": [
       "$\\displaystyle 0$"
      ],
      "text/plain": [
       "0"
      ]
     },
     "metadata": {},
     "output_type": "display_data"
    },
    {
     "data": {
      "text/latex": [
       "$\\displaystyle \\nabla^{\\nu}R_{1\\nu43}-J_{143}:$"
      ],
      "text/plain": [
       "<IPython.core.display.Math object>"
      ]
     },
     "metadata": {},
     "output_type": "display_data"
    },
    {
     "data": {
      "image/png": "[encoded data removed]",
      "text/latex": [
       "$\\displaystyle 0$"
      ],
      "text/plain": [
       "0"
      ]
     },
     "metadata": {},
     "output_type": "display_data"
    },
    {
     "name": "stdout",
     "output_type": "stream",
     "text": [
      "--\n"
     ]
    },
    {
     "data": {
      "text/latex": [
       "$\\displaystyle J_{144}:$"
      ],
      "text/plain": [
       "<IPython.core.display.Math object>"
      ]
     },
     "metadata": {},
     "output_type": "display_data"
    },
    {
     "data": {
      "image/png": "[encoded data removed]",
      "text/latex": [
       "$\\displaystyle 0$"
      ],
      "text/plain": [
       "0"
      ]
     },
     "metadata": {},
     "output_type": "display_data"
    },
    {
     "data": {
      "text/latex": [
       "$\\displaystyle \\nabla^{\\nu}R_{1\\nu44}-J_{144}:$"
      ],
      "text/plain": [
       "<IPython.core.display.Math object>"
      ]
     },
     "metadata": {},
     "output_type": "display_data"
    },
    {
     "data": {
      "image/png": "[encoded data removed]",
      "text/latex": [
       "$\\displaystyle 0$"
      ],
      "text/plain": [
       "0"
      ]
     },
     "metadata": {},
     "output_type": "display_data"
    },
    {
     "name": "stdout",
     "output_type": "stream",
     "text": [
      "--\n"
     ]
    },
    {
     "data": {
      "text/latex": [
       "$\\displaystyle J_{211}:$"
      ],
      "text/plain": [
       "<IPython.core.display.Math object>"
      ]
     },
     "metadata": {},
     "output_type": "display_data"
    },
    {
     "data": {
      "image/png": "[encoded data removed]",
      "text/latex": [
       "$\\displaystyle 0$"
      ],
      "text/plain": [
       "0"
      ]
     },
     "metadata": {},
     "output_type": "display_data"
    },
    {
     "data": {
      "text/latex": [
       "$\\displaystyle \\nabla^{\\nu}R_{2\\nu11}-J_{211}:$"
      ],
      "text/plain": [
       "<IPython.core.display.Math object>"
      ]
     },
     "metadata": {},
     "output_type": "display_data"
    },
    {
     "data": {
      "image/png": "[encoded data removed]",
      "text/latex": [
       "$\\displaystyle 0$"
      ],
      "text/plain": [
       "0"
      ]
     },
     "metadata": {},
     "output_type": "display_data"
    },
    {
     "name": "stdout",
     "output_type": "stream",
     "text": [
      "--\n"
     ]
    },
    {
     "data": {
      "text/latex": [
       "$\\displaystyle J_{212}:$"
      ],
      "text/plain": [
       "<IPython.core.display.Math object>"
      ]
     },
     "metadata": {},
     "output_type": "display_data"
    },
    {
     "data": {
      "image/png": "[encoded data removed]",
      "text/latex": [
       "$\\displaystyle 0$"
      ],
      "text/plain": [
       "0"
      ]
     },
     "metadata": {},
     "output_type": "display_data"
    },
    {
     "data": {
      "text/latex": [
       "$\\displaystyle \\nabla^{\\nu}R_{2\\nu12}-J_{212}:$"
      ],
      "text/plain": [
       "<IPython.core.display.Math object>"
      ]
     },
     "metadata": {},
     "output_type": "display_data"
    },
    {
     "data": {
      "image/png": "[encoded data removed]",
      "text/latex": [
       "$\\displaystyle 0$"
      ],
      "text/plain": [
       "0"
      ]
     },
     "metadata": {},
     "output_type": "display_data"
    },
    {
     "name": "stdout",
     "output_type": "stream",
     "text": [
      "--\n"
     ]
    },
    {
     "data": {
      "text/latex": [
       "$\\displaystyle J_{213}:$"
      ],
      "text/plain": [
       "<IPython.core.display.Math object>"
      ]
     },
     "metadata": {},
     "output_type": "display_data"
    },
    {
     "data": {
      "image/png": "[encoded data removed]",
      "text/latex": [
       "$\\displaystyle 0$"
      ],
      "text/plain": [
       "0"
      ]
     },
     "metadata": {},
     "output_type": "display_data"
    },
    {
     "data": {
      "text/latex": [
       "$\\displaystyle \\nabla^{\\nu}R_{2\\nu13}-J_{213}:$"
      ],
      "text/plain": [
       "<IPython.core.display.Math object>"
      ]
     },
     "metadata": {},
     "output_type": "display_data"
    },
    {
     "data": {
      "image/png": "[encoded data removed]",
      "text/latex": [
       "$\\displaystyle 0$"
      ],
      "text/plain": [
       "0"
      ]
     },
     "metadata": {},
     "output_type": "display_data"
    },
    {
     "name": "stdout",
     "output_type": "stream",
     "text": [
      "--\n"
     ]
    },
    {
     "data": {
      "text/latex": [
       "$\\displaystyle J_{214}:$"
      ],
      "text/plain": [
       "<IPython.core.display.Math object>"
      ]
     },
     "metadata": {},
     "output_type": "display_data"
    },
    {
     "data": {
      "image/png": "[encoded data removed]",
      "text/latex": [
       "$\\displaystyle 0$"
      ],
      "text/plain": [
       "0"
      ]
     },
     "metadata": {},
     "output_type": "display_data"
    },
    {
     "data": {
      "text/latex": [
       "$\\displaystyle \\nabla^{\\nu}R_{2\\nu14}-J_{214}:$"
      ],
      "text/plain": [
       "<IPython.core.display.Math object>"
      ]
     },
     "metadata": {},
     "output_type": "display_data"
    },
    {
     "data": {
      "image/png": "[encoded data removed]",
      "text/latex": [
       "$\\displaystyle 0$"
      ],
      "text/plain": [
       "0"
      ]
     },
     "metadata": {},
     "output_type": "display_data"
    },
    {
     "name": "stdout",
     "output_type": "stream",
     "text": [
      "--\n"
     ]
    },
    {
     "data": {
      "text/latex": [
       "$\\displaystyle J_{221}:$"
      ],
      "text/plain": [
       "<IPython.core.display.Math object>"
      ]
     },
     "metadata": {},
     "output_type": "display_data"
    },
    {
     "data": {
      "image/png": "[encoded data removed]",
      "text/latex": [
       "$\\displaystyle 0$"
      ],
      "text/plain": [
       "0"
      ]
     },
     "metadata": {},
     "output_type": "display_data"
    },
    {
     "data": {
      "text/latex": [
       "$\\displaystyle \\nabla^{\\nu}R_{2\\nu21}-J_{221}:$"
      ],
      "text/plain": [
       "<IPython.core.display.Math object>"
      ]
     },
     "metadata": {},
     "output_type": "display_data"
    },
    {
     "data": {
      "image/png": "[encoded data removed]",
      "text/latex": [
       "$\\displaystyle 0$"
      ],
      "text/plain": [
       "0"
      ]
     },
     "metadata": {},
     "output_type": "display_data"
    },
    {
     "name": "stdout",
     "output_type": "stream",
     "text": [
      "--\n"
     ]
    },
    {
     "data": {
      "text/latex": [
       "$\\displaystyle J_{222}:$"
      ],
      "text/plain": [
       "<IPython.core.display.Math object>"
      ]
     },
     "metadata": {},
     "output_type": "display_data"
    },
    {
     "data": {
      "image/png": "[encoded data removed]",
      "text/latex": [
       "$\\displaystyle 0$"
      ],
      "text/plain": [
       "0"
      ]
     },
     "metadata": {},
     "output_type": "display_data"
    },
    {
     "data": {
      "text/latex": [
       "$\\displaystyle \\nabla^{\\nu}R_{2\\nu22}-J_{222}:$"
      ],
      "text/plain": [
       "<IPython.core.display.Math object>"
      ]
     },
     "metadata": {},
     "output_type": "display_data"
    },
    {
     "data": {
      "image/png": "[encoded data removed]",
      "text/latex": [
       "$\\displaystyle 0$"
      ],
      "text/plain": [
       "0"
      ]
     },
     "metadata": {},
     "output_type": "display_data"
    },
    {
     "name": "stdout",
     "output_type": "stream",
     "text": [
      "--\n"
     ]
    },
    {
     "data": {
      "text/latex": [
       "$\\displaystyle J_{223}:$"
      ],
      "text/plain": [
       "<IPython.core.display.Math object>"
      ]
     },
     "metadata": {},
     "output_type": "display_data"
    },
    {
     "data": {
      "image/png": "[encoded data removed]",
      "text/latex": [
       "$\\displaystyle 0$"
      ],
      "text/plain": [
       "0"
      ]
     },
     "metadata": {},
     "output_type": "display_data"
    },
    {
     "data": {
      "text/latex": [
       "$\\displaystyle \\nabla^{\\nu}R_{2\\nu23}-J_{223}:$"
      ],
      "text/plain": [
       "<IPython.core.display.Math object>"
      ]
     },
     "metadata": {},
     "output_type": "display_data"
    },
    {
     "data": {
      "image/png": "[encoded data removed]",
      "text/latex": [
       "$\\displaystyle 0$"
      ],
      "text/plain": [
       "0"
      ]
     },
     "metadata": {},
     "output_type": "display_data"
    },
    {
     "name": "stdout",
     "output_type": "stream",
     "text": [
      "--\n"
     ]
    },
    {
     "data": {
      "text/latex": [
       "$\\displaystyle J_{224}:$"
      ],
      "text/plain": [
       "<IPython.core.display.Math object>"
      ]
     },
     "metadata": {},
     "output_type": "display_data"
    },
    {
     "data": {
      "image/png": "[encoded data removed]",
      "text/latex": [
       "$\\displaystyle 0$"
      ],
      "text/plain": [
       "0"
      ]
     },
     "metadata": {},
     "output_type": "display_data"
    },
    {
     "data": {
      "text/latex": [
       "$\\displaystyle \\nabla^{\\nu}R_{2\\nu24}-J_{224}:$"
      ],
      "text/plain": [
       "<IPython.core.display.Math object>"
      ]
     },
     "metadata": {},
     "output_type": "display_data"
    },
    {
     "data": {
      "image/png": "[encoded data removed]",
      "text/latex": [
       "$\\displaystyle 0$"
      ],
      "text/plain": [
       "0"
      ]
     },
     "metadata": {},
     "output_type": "display_data"
    },
    {
     "name": "stdout",
     "output_type": "stream",
     "text": [
      "--\n"
     ]
    },
    {
     "data": {
      "text/latex": [
       "$\\displaystyle J_{231}:$"
      ],
      "text/plain": [
       "<IPython.core.display.Math object>"
      ]
     },
     "metadata": {},
     "output_type": "display_data"
    },
    {
     "data": {
      "image/png": "[encoded data removed]",
      "text/latex": [
       "$\\displaystyle 0$"
      ],
      "text/plain": [
       "0"
      ]
     },
     "metadata": {},
     "output_type": "display_data"
    },
    {
     "data": {
      "text/latex": [
       "$\\displaystyle \\nabla^{\\nu}R_{2\\nu31}-J_{231}:$"
      ],
      "text/plain": [
       "<IPython.core.display.Math object>"
      ]
     },
     "metadata": {},
     "output_type": "display_data"
    },
    {
     "data": {
      "image/png": "[encoded data removed]",
      "text/latex": [
       "$\\displaystyle 0$"
      ],
      "text/plain": [
       "0"
      ]
     },
     "metadata": {},
     "output_type": "display_data"
    },
    {
     "name": "stdout",
     "output_type": "stream",
     "text": [
      "--\n"
     ]
    },
    {
     "data": {
      "text/latex": [
       "$\\displaystyle J_{232}:$"
      ],
      "text/plain": [
       "<IPython.core.display.Math object>"
      ]
     },
     "metadata": {},
     "output_type": "display_data"
    },
    {
     "data": {
      "image/png": "[encoded data removed]",
      "text/latex": [
       "$\\displaystyle 0$"
      ],
      "text/plain": [
       "0"
      ]
     },
     "metadata": {},
     "output_type": "display_data"
    },
    {
     "data": {
      "text/latex": [
       "$\\displaystyle \\nabla^{\\nu}R_{2\\nu32}-J_{232}:$"
      ],
      "text/plain": [
       "<IPython.core.display.Math object>"
      ]
     },
     "metadata": {},
     "output_type": "display_data"
    },
    {
     "data": {
      "image/png": "[encoded data removed]",
      "text/latex": [
       "$\\displaystyle 0$"
      ],
      "text/plain": [
       "0"
      ]
     },
     "metadata": {},
     "output_type": "display_data"
    },
    {
     "name": "stdout",
     "output_type": "stream",
     "text": [
      "--\n"
     ]
    },
    {
     "data": {
      "text/latex": [
       "$\\displaystyle J_{233}:$"
      ],
      "text/plain": [
       "<IPython.core.display.Math object>"
      ]
     },
     "metadata": {},
     "output_type": "display_data"
    },
    {
     "data": {
      "image/png": "[encoded data removed]",
      "text/latex": [
       "$\\displaystyle 0$"
      ],
      "text/plain": [
       "0"
      ]
     },
     "metadata": {},
     "output_type": "display_data"
    },
    {
     "data": {
      "text/latex": [
       "$\\displaystyle \\nabla^{\\nu}R_{2\\nu33}-J_{233}:$"
      ],
      "text/plain": [
       "<IPython.core.display.Math object>"
      ]
     },
     "metadata": {},
     "output_type": "display_data"
    },
    {
     "data": {
      "image/png": "[encoded data removed]",
      "text/latex": [
       "$\\displaystyle 0$"
      ],
      "text/plain": [
       "0"
      ]
     },
     "metadata": {},
     "output_type": "display_data"
    },
    {
     "name": "stdout",
     "output_type": "stream",
     "text": [
      "--\n"
     ]
    },
    {
     "data": {
      "text/latex": [
       "$\\displaystyle J_{234}:$"
      ],
      "text/plain": [
       "<IPython.core.display.Math object>"
      ]
     },
     "metadata": {},
     "output_type": "display_data"
    },
    {
     "data": {
      "image/png": "[encoded data removed]",
      "text/latex": [
       "$\\displaystyle 0$"
      ],
      "text/plain": [
       "0"
      ]
     },
     "metadata": {},
     "output_type": "display_data"
    },
    {
     "data": {
      "text/latex": [
       "$\\displaystyle \\nabla^{\\nu}R_{2\\nu34}-J_{234}:$"
      ],
      "text/plain": [
       "<IPython.core.display.Math object>"
      ]
     },
     "metadata": {},
     "output_type": "display_data"
    },
    {
     "data": {
      "image/png": "[encoded data removed]",
      "text/latex": [
       "$\\displaystyle 0$"
      ],
      "text/plain": [
       "0"
      ]
     },
     "metadata": {},
     "output_type": "display_data"
    },
    {
     "name": "stdout",
     "output_type": "stream",
     "text": [
      "--\n"
     ]
    },
    {
     "data": {
      "text/latex": [
       "$\\displaystyle J_{241}:$"
      ],
      "text/plain": [
       "<IPython.core.display.Math object>"
      ]
     },
     "metadata": {},
     "output_type": "display_data"
    },
    {
     "data": {
      "image/png": "[encoded data removed]",
      "text/latex": [
       "$\\displaystyle 0$"
      ],
      "text/plain": [
       "0"
      ]
     },
     "metadata": {},
     "output_type": "display_data"
    },
    {
     "data": {
      "text/latex": [
       "$\\displaystyle \\nabla^{\\nu}R_{2\\nu41}-J_{241}:$"
      ],
      "text/plain": [
       "<IPython.core.display.Math object>"
      ]
     },
     "metadata": {},
     "output_type": "display_data"
    },
    {
     "data": {
      "image/png": "[encoded data removed]",
      "text/latex": [
       "$\\displaystyle 0$"
      ],
      "text/plain": [
       "0"
      ]
     },
     "metadata": {},
     "output_type": "display_data"
    },
    {
     "name": "stdout",
     "output_type": "stream",
     "text": [
      "--\n"
     ]
    },
    {
     "data": {
      "text/latex": [
       "$\\displaystyle J_{242}:$"
      ],
      "text/plain": [
       "<IPython.core.display.Math object>"
      ]
     },
     "metadata": {},
     "output_type": "display_data"
    }
   ],
   "source": [
    "## display the source and\n",
    "## make sure the metric is the solution of LGT\n",
    "for i, k, l in list(variations(range(1, 5), 3, True)):\n",
    "    val = (DRm(i,k,l) - J(i,k,l)).simplify()\n",
    "    display(Math(r'$J_{%d%d%d}:$'%(i,k,l)),(J(i,k,l)).simplify())\n",
    "    display(Math(r'\\nabla^{\\nu}R_{%d\\nu%d%d}-J_{%d%d%d}:'\\\n",
    "                 %(i,k,l,i,k,l)),val)\n",
    "    print(\"--\")\n",
    "    \n"
   ]
  },
  {
   "cell_type": "code",
   "execution_count": 14,
   "metadata": {},
   "outputs": [
    {
     "data": {
      "text/plain": [
       "True"
      ]
     },
     "execution_count": 14,
     "metadata": {},
     "output_type": "execute_result"
    }
   ],
   "source": [
    "## make sure that all of the components of the\n",
    "## divergence of the Riemann tensor are zero\n",
    "not any([(DRm(i,k,l)-J(i,k,l)).simplify()\\\n",
    "         for i, k, l in list(variations(range(1, 5), 3, True))])"
   ]
  }
 ],
 "metadata": {
  "kernelspec": {
   "display_name": "Python 3",
   "language": "python",
   "name": "python3"
  },
  "language_info": {
   "codemirror_mode": {
    "name": "ipython",
    "version": 3
   },
   "file_extension": ".py",
   "mimetype": "text/x-python",
   "name": "python",
   "nbconvert_exporter": "python",
   "pygments_lexer": "ipython3",
   "version": "3.7.4"
  }
 },
 "nbformat": 4,
 "nbformat_minor": 2
}
