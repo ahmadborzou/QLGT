{
 "cells": [
  {
   "cell_type": "markdown",
   "metadata": {},
   "source": [
    "## Reference:\n",
    "\n",
    "The setup of the metric, the Christoffel symbols, the Riemann, and Ricci tensors are duplicated from \n",
    "https://github.com/wojciechczaja/GraviPy/blob/master/docs/GraviPy-tutorial.ipynb"
   ]
  },
  {
   "cell_type": "code",
   "execution_count": 1,
   "metadata": {},
   "outputs": [],
   "source": [
    "from sympy import symbols, diag, sin, cos\n",
    "\n",
    "from sympy import init_printing\n",
    "init_printing()\n",
    "\n",
    "from gravipy.tensorial import Coordinates, MetricTensor,\\\n",
    "Christoffel, Riemann, Ricci, Tensor, variations\n",
    "\n",
    "from IPython.display import display, Math\n",
    "\n",
    "from sympy import latex"
   ]
  },
  {
   "cell_type": "code",
   "execution_count": 2,
   "metadata": {},
   "outputs": [],
   "source": [
    "# define symbols\n",
    "t, r, theta, phi, M, R, G = symbols('t, r, \\\\theta, \\phi, M, R\\\n",
    ",G',real=True)"
   ]
  },
  {
   "cell_type": "markdown",
   "metadata": {},
   "source": [
    "#### The Schwarzschild metric in vacuum"
   ]
  },
  {
   "cell_type": "code",
   "execution_count": 3,
   "metadata": {},
   "outputs": [
    {
     "data": {
      "text/latex": [
       "$\\displaystyle R_{1212} = - \\frac{2 G M}{r^{3}}$"
      ],
      "text/plain": [
       "<IPython.core.display.Math object>"
      ]
     },
     "metadata": {},
     "output_type": "display_data"
    },
    {
     "data": {
      "text/latex": [
       "$\\displaystyle R_{1313} = \\frac{G M \\left(- 2 G M + r\\right)}{r^{2}}$"
      ],
      "text/plain": [
       "<IPython.core.display.Math object>"
      ]
     },
     "metadata": {},
     "output_type": "display_data"
    },
    {
     "data": {
      "text/latex": [
       "$\\displaystyle R_{1414} = \\frac{G M \\left(- 2 G M + r\\right) \\sin^{2}{\\left(\\theta \\right)}}{r^{2}}$"
      ],
      "text/plain": [
       "<IPython.core.display.Math object>"
      ]
     },
     "metadata": {},
     "output_type": "display_data"
    },
    {
     "data": {
      "text/latex": [
       "$\\displaystyle R_{2323} = \\frac{G M}{2 G M - r}$"
      ],
      "text/plain": [
       "<IPython.core.display.Math object>"
      ]
     },
     "metadata": {},
     "output_type": "display_data"
    },
    {
     "data": {
      "text/latex": [
       "$\\displaystyle R_{2424} = \\frac{G M \\sin^{2}{\\left(\\theta \\right)}}{2 G M - r}$"
      ],
      "text/plain": [
       "<IPython.core.display.Math object>"
      ]
     },
     "metadata": {},
     "output_type": "display_data"
    },
    {
     "data": {
      "text/latex": [
       "$\\displaystyle R_{3434} = 2 G M r \\sin^{2}{\\left(\\theta \\right)}$"
      ],
      "text/plain": [
       "<IPython.core.display.Math object>"
      ]
     },
     "metadata": {},
     "output_type": "display_data"
    }
   ],
   "source": [
    "# the Coordinates class\n",
    "x = Coordinates('\\chi', [t, r, theta, phi])\n",
    "\n",
    "# define the matrix equal to the metric\n",
    "Metric = diag(-(1-2*G*M/r), 1/(1-2*G*M/r), r**2, r**2*sin(theta)**2) \n",
    "\n",
    "# create the metric\n",
    "g = MetricTensor('g', x, Metric)\n",
    "\n",
    "# create the Christoffel symbols\n",
    "Ga = Christoffel('Ga', g)\n",
    "\n",
    "## The Riemann tensor\n",
    "Rm = Riemann('Rm', g)\n",
    "\n",
    "## display the Riemann tensor components\n",
    "for i, j, k, l in list(variations(range(1, 5), 4, True)):\n",
    "    if Rm(i, j, k, l) != 0 and k<l and i<j:\n",
    "        display(Math('R_{'+str(i)+str(j)+str(k)+str(l)+'} = '+ latex(Rm(i, j, k, l))))"
   ]
  },
  {
   "cell_type": "code",
   "execution_count": 4,
   "metadata": {},
   "outputs": [],
   "source": [
    "## the left hand side of LGT equation\n",
    "## divergence of the Riemann tensor\n",
    "DRm = lambda i, k, l:\\\n",
    "(\\\n",
    " ## i,j,k,l are the Riemann tensor indices \n",
    " ## Note: here the convention of the paper is not followed\n",
    " ## Indices refer to space-time and not Lorentz frame\n",
    " ## m is the component of the covariant derivative\n",
    " ## -m and -j means the inverse metric g^{mj} is used not g_{mj}\n",
    " sum(Rm.covariantD(i, j, k, l, m)*g(-m,-j)\\\n",
    "      for m, j in list(variations(range(1,5),2,True))\\\n",
    " )\\\n",
    ").simplify()"
   ]
  },
  {
   "cell_type": "code",
   "execution_count": 8,
   "metadata": {
    "scrolled": true
   },
   "outputs": [
    {
     "data": {
      "text/latex": [
       "$\\displaystyle \\nabla^{\\nu}R_{\\mu\\nu\\alpha\\beta}\\\n",
       "    (\\mu=0, \\alpha=0, \\beta=0) = 0$"
      ],
      "text/plain": [
       "<IPython.core.display.Math object>"
      ]
     },
     "metadata": {},
     "output_type": "display_data"
    },
    {
     "data": {
      "text/latex": [
       "$\\displaystyle \\nabla^{\\nu}R_{\\mu\\nu\\alpha\\beta}\\\n",
       "    (\\mu=0, \\alpha=0, \\beta=1) = 0$"
      ],
      "text/plain": [
       "<IPython.core.display.Math object>"
      ]
     },
     "metadata": {},
     "output_type": "display_data"
    },
    {
     "data": {
      "text/latex": [
       "$\\displaystyle \\nabla^{\\nu}R_{\\mu\\nu\\alpha\\beta}\\\n",
       "    (\\mu=0, \\alpha=0, \\beta=2) = 0$"
      ],
      "text/plain": [
       "<IPython.core.display.Math object>"
      ]
     },
     "metadata": {},
     "output_type": "display_data"
    },
    {
     "data": {
      "text/latex": [
       "$\\displaystyle \\nabla^{\\nu}R_{\\mu\\nu\\alpha\\beta}\\\n",
       "    (\\mu=0, \\alpha=0, \\beta=3) = 0$"
      ],
      "text/plain": [
       "<IPython.core.display.Math object>"
      ]
     },
     "metadata": {},
     "output_type": "display_data"
    },
    {
     "data": {
      "text/latex": [
       "$\\displaystyle \\nabla^{\\nu}R_{\\mu\\nu\\alpha\\beta}\\\n",
       "    (\\mu=0, \\alpha=1, \\beta=0) = 0$"
      ],
      "text/plain": [
       "<IPython.core.display.Math object>"
      ]
     },
     "metadata": {},
     "output_type": "display_data"
    },
    {
     "data": {
      "text/latex": [
       "$\\displaystyle \\nabla^{\\nu}R_{\\mu\\nu\\alpha\\beta}\\\n",
       "    (\\mu=0, \\alpha=1, \\beta=1) = 0$"
      ],
      "text/plain": [
       "<IPython.core.display.Math object>"
      ]
     },
     "metadata": {},
     "output_type": "display_data"
    },
    {
     "data": {
      "text/latex": [
       "$\\displaystyle \\nabla^{\\nu}R_{\\mu\\nu\\alpha\\beta}\\\n",
       "    (\\mu=0, \\alpha=1, \\beta=2) = 0$"
      ],
      "text/plain": [
       "<IPython.core.display.Math object>"
      ]
     },
     "metadata": {},
     "output_type": "display_data"
    },
    {
     "data": {
      "text/latex": [
       "$\\displaystyle \\nabla^{\\nu}R_{\\mu\\nu\\alpha\\beta}\\\n",
       "    (\\mu=0, \\alpha=1, \\beta=3) = 0$"
      ],
      "text/plain": [
       "<IPython.core.display.Math object>"
      ]
     },
     "metadata": {},
     "output_type": "display_data"
    },
    {
     "data": {
      "text/latex": [
       "$\\displaystyle \\nabla^{\\nu}R_{\\mu\\nu\\alpha\\beta}\\\n",
       "    (\\mu=0, \\alpha=2, \\beta=0) = 0$"
      ],
      "text/plain": [
       "<IPython.core.display.Math object>"
      ]
     },
     "metadata": {},
     "output_type": "display_data"
    },
    {
     "data": {
      "text/latex": [
       "$\\displaystyle \\nabla^{\\nu}R_{\\mu\\nu\\alpha\\beta}\\\n",
       "    (\\mu=0, \\alpha=2, \\beta=1) = 0$"
      ],
      "text/plain": [
       "<IPython.core.display.Math object>"
      ]
     },
     "metadata": {},
     "output_type": "display_data"
    },
    {
     "data": {
      "text/latex": [
       "$\\displaystyle \\nabla^{\\nu}R_{\\mu\\nu\\alpha\\beta}\\\n",
       "    (\\mu=0, \\alpha=2, \\beta=2) = 0$"
      ],
      "text/plain": [
       "<IPython.core.display.Math object>"
      ]
     },
     "metadata": {},
     "output_type": "display_data"
    },
    {
     "data": {
      "text/latex": [
       "$\\displaystyle \\nabla^{\\nu}R_{\\mu\\nu\\alpha\\beta}\\\n",
       "    (\\mu=0, \\alpha=2, \\beta=3) = 0$"
      ],
      "text/plain": [
       "<IPython.core.display.Math object>"
      ]
     },
     "metadata": {},
     "output_type": "display_data"
    },
    {
     "data": {
      "text/latex": [
       "$\\displaystyle \\nabla^{\\nu}R_{\\mu\\nu\\alpha\\beta}\\\n",
       "    (\\mu=0, \\alpha=3, \\beta=0) = 0$"
      ],
      "text/plain": [
       "<IPython.core.display.Math object>"
      ]
     },
     "metadata": {},
     "output_type": "display_data"
    },
    {
     "data": {
      "text/latex": [
       "$\\displaystyle \\nabla^{\\nu}R_{\\mu\\nu\\alpha\\beta}\\\n",
       "    (\\mu=0, \\alpha=3, \\beta=1) = 0$"
      ],
      "text/plain": [
       "<IPython.core.display.Math object>"
      ]
     },
     "metadata": {},
     "output_type": "display_data"
    },
    {
     "data": {
      "text/latex": [
       "$\\displaystyle \\nabla^{\\nu}R_{\\mu\\nu\\alpha\\beta}\\\n",
       "    (\\mu=0, \\alpha=3, \\beta=2) = 0$"
      ],
      "text/plain": [
       "<IPython.core.display.Math object>"
      ]
     },
     "metadata": {},
     "output_type": "display_data"
    },
    {
     "data": {
      "text/latex": [
       "$\\displaystyle \\nabla^{\\nu}R_{\\mu\\nu\\alpha\\beta}\\\n",
       "    (\\mu=0, \\alpha=3, \\beta=3) = 0$"
      ],
      "text/plain": [
       "<IPython.core.display.Math object>"
      ]
     },
     "metadata": {},
     "output_type": "display_data"
    },
    {
     "data": {
      "text/latex": [
       "$\\displaystyle \\nabla^{\\nu}R_{\\mu\\nu\\alpha\\beta}\\\n",
       "    (\\mu=1, \\alpha=0, \\beta=0) = 0$"
      ],
      "text/plain": [
       "<IPython.core.display.Math object>"
      ]
     },
     "metadata": {},
     "output_type": "display_data"
    },
    {
     "data": {
      "text/latex": [
       "$\\displaystyle \\nabla^{\\nu}R_{\\mu\\nu\\alpha\\beta}\\\n",
       "    (\\mu=1, \\alpha=0, \\beta=1) = 0$"
      ],
      "text/plain": [
       "<IPython.core.display.Math object>"
      ]
     },
     "metadata": {},
     "output_type": "display_data"
    },
    {
     "data": {
      "text/latex": [
       "$\\displaystyle \\nabla^{\\nu}R_{\\mu\\nu\\alpha\\beta}\\\n",
       "    (\\mu=1, \\alpha=0, \\beta=2) = 0$"
      ],
      "text/plain": [
       "<IPython.core.display.Math object>"
      ]
     },
     "metadata": {},
     "output_type": "display_data"
    },
    {
     "data": {
      "text/latex": [
       "$\\displaystyle \\nabla^{\\nu}R_{\\mu\\nu\\alpha\\beta}\\\n",
       "    (\\mu=1, \\alpha=0, \\beta=3) = 0$"
      ],
      "text/plain": [
       "<IPython.core.display.Math object>"
      ]
     },
     "metadata": {},
     "output_type": "display_data"
    },
    {
     "data": {
      "text/latex": [
       "$\\displaystyle \\nabla^{\\nu}R_{\\mu\\nu\\alpha\\beta}\\\n",
       "    (\\mu=1, \\alpha=1, \\beta=0) = 0$"
      ],
      "text/plain": [
       "<IPython.core.display.Math object>"
      ]
     },
     "metadata": {},
     "output_type": "display_data"
    },
    {
     "data": {
      "text/latex": [
       "$\\displaystyle \\nabla^{\\nu}R_{\\mu\\nu\\alpha\\beta}\\\n",
       "    (\\mu=1, \\alpha=1, \\beta=1) = 0$"
      ],
      "text/plain": [
       "<IPython.core.display.Math object>"
      ]
     },
     "metadata": {},
     "output_type": "display_data"
    },
    {
     "data": {
      "text/latex": [
       "$\\displaystyle \\nabla^{\\nu}R_{\\mu\\nu\\alpha\\beta}\\\n",
       "    (\\mu=1, \\alpha=1, \\beta=2) = 0$"
      ],
      "text/plain": [
       "<IPython.core.display.Math object>"
      ]
     },
     "metadata": {},
     "output_type": "display_data"
    },
    {
     "data": {
      "text/latex": [
       "$\\displaystyle \\nabla^{\\nu}R_{\\mu\\nu\\alpha\\beta}\\\n",
       "    (\\mu=1, \\alpha=1, \\beta=3) = 0$"
      ],
      "text/plain": [
       "<IPython.core.display.Math object>"
      ]
     },
     "metadata": {},
     "output_type": "display_data"
    },
    {
     "data": {
      "text/latex": [
       "$\\displaystyle \\nabla^{\\nu}R_{\\mu\\nu\\alpha\\beta}\\\n",
       "    (\\mu=1, \\alpha=2, \\beta=0) = 0$"
      ],
      "text/plain": [
       "<IPython.core.display.Math object>"
      ]
     },
     "metadata": {},
     "output_type": "display_data"
    },
    {
     "data": {
      "text/latex": [
       "$\\displaystyle \\nabla^{\\nu}R_{\\mu\\nu\\alpha\\beta}\\\n",
       "    (\\mu=1, \\alpha=2, \\beta=1) = 0$"
      ],
      "text/plain": [
       "<IPython.core.display.Math object>"
      ]
     },
     "metadata": {},
     "output_type": "display_data"
    },
    {
     "data": {
      "text/latex": [
       "$\\displaystyle \\nabla^{\\nu}R_{\\mu\\nu\\alpha\\beta}\\\n",
       "    (\\mu=1, \\alpha=2, \\beta=2) = 0$"
      ],
      "text/plain": [
       "<IPython.core.display.Math object>"
      ]
     },
     "metadata": {},
     "output_type": "display_data"
    },
    {
     "data": {
      "text/latex": [
       "$\\displaystyle \\nabla^{\\nu}R_{\\mu\\nu\\alpha\\beta}\\\n",
       "    (\\mu=1, \\alpha=2, \\beta=3) = 0$"
      ],
      "text/plain": [
       "<IPython.core.display.Math object>"
      ]
     },
     "metadata": {},
     "output_type": "display_data"
    },
    {
     "data": {
      "text/latex": [
       "$\\displaystyle \\nabla^{\\nu}R_{\\mu\\nu\\alpha\\beta}\\\n",
       "    (\\mu=1, \\alpha=3, \\beta=0) = 0$"
      ],
      "text/plain": [
       "<IPython.core.display.Math object>"
      ]
     },
     "metadata": {},
     "output_type": "display_data"
    },
    {
     "data": {
      "text/latex": [
       "$\\displaystyle \\nabla^{\\nu}R_{\\mu\\nu\\alpha\\beta}\\\n",
       "    (\\mu=1, \\alpha=3, \\beta=1) = 0$"
      ],
      "text/plain": [
       "<IPython.core.display.Math object>"
      ]
     },
     "metadata": {},
     "output_type": "display_data"
    },
    {
     "data": {
      "text/latex": [
       "$\\displaystyle \\nabla^{\\nu}R_{\\mu\\nu\\alpha\\beta}\\\n",
       "    (\\mu=1, \\alpha=3, \\beta=2) = 0$"
      ],
      "text/plain": [
       "<IPython.core.display.Math object>"
      ]
     },
     "metadata": {},
     "output_type": "display_data"
    },
    {
     "data": {
      "text/latex": [
       "$\\displaystyle \\nabla^{\\nu}R_{\\mu\\nu\\alpha\\beta}\\\n",
       "    (\\mu=1, \\alpha=3, \\beta=3) = 0$"
      ],
      "text/plain": [
       "<IPython.core.display.Math object>"
      ]
     },
     "metadata": {},
     "output_type": "display_data"
    },
    {
     "data": {
      "text/latex": [
       "$\\displaystyle \\nabla^{\\nu}R_{\\mu\\nu\\alpha\\beta}\\\n",
       "    (\\mu=2, \\alpha=0, \\beta=0) = 0$"
      ],
      "text/plain": [
       "<IPython.core.display.Math object>"
      ]
     },
     "metadata": {},
     "output_type": "display_data"
    },
    {
     "data": {
      "text/latex": [
       "$\\displaystyle \\nabla^{\\nu}R_{\\mu\\nu\\alpha\\beta}\\\n",
       "    (\\mu=2, \\alpha=0, \\beta=1) = 0$"
      ],
      "text/plain": [
       "<IPython.core.display.Math object>"
      ]
     },
     "metadata": {},
     "output_type": "display_data"
    },
    {
     "data": {
      "text/latex": [
       "$\\displaystyle \\nabla^{\\nu}R_{\\mu\\nu\\alpha\\beta}\\\n",
       "    (\\mu=2, \\alpha=0, \\beta=2) = 0$"
      ],
      "text/plain": [
       "<IPython.core.display.Math object>"
      ]
     },
     "metadata": {},
     "output_type": "display_data"
    },
    {
     "data": {
      "text/latex": [
       "$\\displaystyle \\nabla^{\\nu}R_{\\mu\\nu\\alpha\\beta}\\\n",
       "    (\\mu=2, \\alpha=0, \\beta=3) = 0$"
      ],
      "text/plain": [
       "<IPython.core.display.Math object>"
      ]
     },
     "metadata": {},
     "output_type": "display_data"
    },
    {
     "data": {
      "text/latex": [
       "$\\displaystyle \\nabla^{\\nu}R_{\\mu\\nu\\alpha\\beta}\\\n",
       "    (\\mu=2, \\alpha=1, \\beta=0) = 0$"
      ],
      "text/plain": [
       "<IPython.core.display.Math object>"
      ]
     },
     "metadata": {},
     "output_type": "display_data"
    },
    {
     "data": {
      "text/latex": [
       "$\\displaystyle \\nabla^{\\nu}R_{\\mu\\nu\\alpha\\beta}\\\n",
       "    (\\mu=2, \\alpha=1, \\beta=1) = 0$"
      ],
      "text/plain": [
       "<IPython.core.display.Math object>"
      ]
     },
     "metadata": {},
     "output_type": "display_data"
    },
    {
     "data": {
      "text/latex": [
       "$\\displaystyle \\nabla^{\\nu}R_{\\mu\\nu\\alpha\\beta}\\\n",
       "    (\\mu=2, \\alpha=1, \\beta=2) = 0$"
      ],
      "text/plain": [
       "<IPython.core.display.Math object>"
      ]
     },
     "metadata": {},
     "output_type": "display_data"
    },
    {
     "data": {
      "text/latex": [
       "$\\displaystyle \\nabla^{\\nu}R_{\\mu\\nu\\alpha\\beta}\\\n",
       "    (\\mu=2, \\alpha=1, \\beta=3) = 0$"
      ],
      "text/plain": [
       "<IPython.core.display.Math object>"
      ]
     },
     "metadata": {},
     "output_type": "display_data"
    },
    {
     "data": {
      "text/latex": [
       "$\\displaystyle \\nabla^{\\nu}R_{\\mu\\nu\\alpha\\beta}\\\n",
       "    (\\mu=2, \\alpha=2, \\beta=0) = 0$"
      ],
      "text/plain": [
       "<IPython.core.display.Math object>"
      ]
     },
     "metadata": {},
     "output_type": "display_data"
    },
    {
     "data": {
      "text/latex": [
       "$\\displaystyle \\nabla^{\\nu}R_{\\mu\\nu\\alpha\\beta}\\\n",
       "    (\\mu=2, \\alpha=2, \\beta=1) = 0$"
      ],
      "text/plain": [
       "<IPython.core.display.Math object>"
      ]
     },
     "metadata": {},
     "output_type": "display_data"
    },
    {
     "data": {
      "text/latex": [
       "$\\displaystyle \\nabla^{\\nu}R_{\\mu\\nu\\alpha\\beta}\\\n",
       "    (\\mu=2, \\alpha=2, \\beta=2) = 0$"
      ],
      "text/plain": [
       "<IPython.core.display.Math object>"
      ]
     },
     "metadata": {},
     "output_type": "display_data"
    },
    {
     "data": {
      "text/latex": [
       "$\\displaystyle \\nabla^{\\nu}R_{\\mu\\nu\\alpha\\beta}\\\n",
       "    (\\mu=2, \\alpha=2, \\beta=3) = 0$"
      ],
      "text/plain": [
       "<IPython.core.display.Math object>"
      ]
     },
     "metadata": {},
     "output_type": "display_data"
    },
    {
     "data": {
      "text/latex": [
       "$\\displaystyle \\nabla^{\\nu}R_{\\mu\\nu\\alpha\\beta}\\\n",
       "    (\\mu=2, \\alpha=3, \\beta=0) = 0$"
      ],
      "text/plain": [
       "<IPython.core.display.Math object>"
      ]
     },
     "metadata": {},
     "output_type": "display_data"
    },
    {
     "data": {
      "text/latex": [
       "$\\displaystyle \\nabla^{\\nu}R_{\\mu\\nu\\alpha\\beta}\\\n",
       "    (\\mu=2, \\alpha=3, \\beta=1) = 0$"
      ],
      "text/plain": [
       "<IPython.core.display.Math object>"
      ]
     },
     "metadata": {},
     "output_type": "display_data"
    },
    {
     "data": {
      "text/latex": [
       "$\\displaystyle \\nabla^{\\nu}R_{\\mu\\nu\\alpha\\beta}\\\n",
       "    (\\mu=2, \\alpha=3, \\beta=2) = 0$"
      ],
      "text/plain": [
       "<IPython.core.display.Math object>"
      ]
     },
     "metadata": {},
     "output_type": "display_data"
    },
    {
     "data": {
      "text/latex": [
       "$\\displaystyle \\nabla^{\\nu}R_{\\mu\\nu\\alpha\\beta}\\\n",
       "    (\\mu=2, \\alpha=3, \\beta=3) = 0$"
      ],
      "text/plain": [
       "<IPython.core.display.Math object>"
      ]
     },
     "metadata": {},
     "output_type": "display_data"
    },
    {
     "data": {
      "text/latex": [
       "$\\displaystyle \\nabla^{\\nu}R_{\\mu\\nu\\alpha\\beta}\\\n",
       "    (\\mu=3, \\alpha=0, \\beta=0) = 0$"
      ],
      "text/plain": [
       "<IPython.core.display.Math object>"
      ]
     },
     "metadata": {},
     "output_type": "display_data"
    },
    {
     "data": {
      "text/latex": [
       "$\\displaystyle \\nabla^{\\nu}R_{\\mu\\nu\\alpha\\beta}\\\n",
       "    (\\mu=3, \\alpha=0, \\beta=1) = 0$"
      ],
      "text/plain": [
       "<IPython.core.display.Math object>"
      ]
     },
     "metadata": {},
     "output_type": "display_data"
    },
    {
     "data": {
      "text/latex": [
       "$\\displaystyle \\nabla^{\\nu}R_{\\mu\\nu\\alpha\\beta}\\\n",
       "    (\\mu=3, \\alpha=0, \\beta=2) = 0$"
      ],
      "text/plain": [
       "<IPython.core.display.Math object>"
      ]
     },
     "metadata": {},
     "output_type": "display_data"
    },
    {
     "data": {
      "text/latex": [
       "$\\displaystyle \\nabla^{\\nu}R_{\\mu\\nu\\alpha\\beta}\\\n",
       "    (\\mu=3, \\alpha=0, \\beta=3) = 0$"
      ],
      "text/plain": [
       "<IPython.core.display.Math object>"
      ]
     },
     "metadata": {},
     "output_type": "display_data"
    },
    {
     "data": {
      "text/latex": [
       "$\\displaystyle \\nabla^{\\nu}R_{\\mu\\nu\\alpha\\beta}\\\n",
       "    (\\mu=3, \\alpha=1, \\beta=0) = 0$"
      ],
      "text/plain": [
       "<IPython.core.display.Math object>"
      ]
     },
     "metadata": {},
     "output_type": "display_data"
    },
    {
     "data": {
      "text/latex": [
       "$\\displaystyle \\nabla^{\\nu}R_{\\mu\\nu\\alpha\\beta}\\\n",
       "    (\\mu=3, \\alpha=1, \\beta=1) = 0$"
      ],
      "text/plain": [
       "<IPython.core.display.Math object>"
      ]
     },
     "metadata": {},
     "output_type": "display_data"
    },
    {
     "data": {
      "text/latex": [
       "$\\displaystyle \\nabla^{\\nu}R_{\\mu\\nu\\alpha\\beta}\\\n",
       "    (\\mu=3, \\alpha=1, \\beta=2) = 0$"
      ],
      "text/plain": [
       "<IPython.core.display.Math object>"
      ]
     },
     "metadata": {},
     "output_type": "display_data"
    },
    {
     "data": {
      "text/latex": [
       "$\\displaystyle \\nabla^{\\nu}R_{\\mu\\nu\\alpha\\beta}\\\n",
       "    (\\mu=3, \\alpha=1, \\beta=3) = 0$"
      ],
      "text/plain": [
       "<IPython.core.display.Math object>"
      ]
     },
     "metadata": {},
     "output_type": "display_data"
    },
    {
     "data": {
      "text/latex": [
       "$\\displaystyle \\nabla^{\\nu}R_{\\mu\\nu\\alpha\\beta}\\\n",
       "    (\\mu=3, \\alpha=2, \\beta=0) = 0$"
      ],
      "text/plain": [
       "<IPython.core.display.Math object>"
      ]
     },
     "metadata": {},
     "output_type": "display_data"
    },
    {
     "data": {
      "text/latex": [
       "$\\displaystyle \\nabla^{\\nu}R_{\\mu\\nu\\alpha\\beta}\\\n",
       "    (\\mu=3, \\alpha=2, \\beta=1) = 0$"
      ],
      "text/plain": [
       "<IPython.core.display.Math object>"
      ]
     },
     "metadata": {},
     "output_type": "display_data"
    },
    {
     "data": {
      "text/latex": [
       "$\\displaystyle \\nabla^{\\nu}R_{\\mu\\nu\\alpha\\beta}\\\n",
       "    (\\mu=3, \\alpha=2, \\beta=2) = 0$"
      ],
      "text/plain": [
       "<IPython.core.display.Math object>"
      ]
     },
     "metadata": {},
     "output_type": "display_data"
    },
    {
     "data": {
      "text/latex": [
       "$\\displaystyle \\nabla^{\\nu}R_{\\mu\\nu\\alpha\\beta}\\\n",
       "    (\\mu=3, \\alpha=2, \\beta=3) = 0$"
      ],
      "text/plain": [
       "<IPython.core.display.Math object>"
      ]
     },
     "metadata": {},
     "output_type": "display_data"
    },
    {
     "data": {
      "text/latex": [
       "$\\displaystyle \\nabla^{\\nu}R_{\\mu\\nu\\alpha\\beta}\\\n",
       "    (\\mu=3, \\alpha=3, \\beta=0) = 0$"
      ],
      "text/plain": [
       "<IPython.core.display.Math object>"
      ]
     },
     "metadata": {},
     "output_type": "display_data"
    },
    {
     "data": {
      "text/latex": [
       "$\\displaystyle \\nabla^{\\nu}R_{\\mu\\nu\\alpha\\beta}\\\n",
       "    (\\mu=3, \\alpha=3, \\beta=1) = 0$"
      ],
      "text/plain": [
       "<IPython.core.display.Math object>"
      ]
     },
     "metadata": {},
     "output_type": "display_data"
    },
    {
     "data": {
      "text/latex": [
       "$\\displaystyle \\nabla^{\\nu}R_{\\mu\\nu\\alpha\\beta}\\\n",
       "    (\\mu=3, \\alpha=3, \\beta=2) = 0$"
      ],
      "text/plain": [
       "<IPython.core.display.Math object>"
      ]
     },
     "metadata": {},
     "output_type": "display_data"
    },
    {
     "data": {
      "text/latex": [
       "$\\displaystyle \\nabla^{\\nu}R_{\\mu\\nu\\alpha\\beta}\\\n",
       "    (\\mu=3, \\alpha=3, \\beta=3) = 0$"
      ],
      "text/plain": [
       "<IPython.core.display.Math object>"
      ]
     },
     "metadata": {},
     "output_type": "display_data"
    }
   ],
   "source": [
    "## show the components of left hand side of LGT field equation\n",
    "for i, k, l in list(variations(range(1, 5), 3, True)):\n",
    "    val = DRm(i,k,l)\n",
    "    display(Math(r'$\\nabla^{\\nu}R_{\\mu\\nu\\alpha\\beta}\\\n",
    "    (\\mu=%d, \\alpha=%d, \\beta=%d) = %s$'%(i-1,k-1,l-1,val)))\n",
    "    \n"
   ]
  },
  {
   "cell_type": "code",
   "execution_count": 6,
   "metadata": {},
   "outputs": [
    {
     "data": {
      "text/plain": [
       "True"
      ]
     },
     "execution_count": 6,
     "metadata": {},
     "output_type": "execute_result"
    }
   ],
   "source": [
    "## make sure that all of the components of the\n",
    "## divergence of the Riemann tensor are zero\n",
    "not any([DRm(i,k,l)\\\n",
    "         for i, k, l in list(variations(range(1, 5), 3, True))])"
   ]
  }
 ],
 "metadata": {
  "kernelspec": {
   "display_name": "Python 3",
   "language": "python",
   "name": "python3"
  },
  "language_info": {
   "codemirror_mode": {
    "name": "ipython",
    "version": 3
   },
   "file_extension": ".py",
   "mimetype": "text/x-python",
   "name": "python",
   "nbconvert_exporter": "python",
   "pygments_lexer": "ipython3",
   "version": "3.7.4"
  }
 },
 "nbformat": 4,
 "nbformat_minor": 2
}
