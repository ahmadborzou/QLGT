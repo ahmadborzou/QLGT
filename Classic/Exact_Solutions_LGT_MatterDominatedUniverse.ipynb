{
 "cells": [
  {
   "cell_type": "markdown",
   "metadata": {},
   "source": [
    "## Reference:\n",
    "\n",
    "The setup of the metric, the Christoffel symbols, the Riemann, and Ricci tensors are duplicated from \n",
    "https://github.com/wojciechczaja/GraviPy/blob/master/docs/GraviPy-tutorial.ipynb"
   ]
  },
  {
   "cell_type": "code",
   "execution_count": 1,
   "metadata": {},
   "outputs": [],
   "source": [
    "import sympy as sp\n",
    "\n",
    "from sympy import symbols, diag, sin, cos\n",
    "\n",
    "from sympy import init_printing\n",
    "init_printing()\n",
    "\n",
    "from IPython.display import display, Math\n",
    "\n",
    "from gravipy.tensorial import Coordinates, MetricTensor,\\\n",
    "Christoffel, Riemann, Ricci, Tensor, variations, All"
   ]
  },
  {
   "cell_type": "code",
   "execution_count": 2,
   "metadata": {},
   "outputs": [],
   "source": [
    "# define symbols\n",
    "t, x, y, z, rho0, b, G = symbols('t, x, y, z, rho_0, b, G',real=True)\n",
    "n = sp.Rational(2,3)"
   ]
  },
  {
   "cell_type": "markdown",
   "metadata": {},
   "source": [
    "#### The metric for the matter dominated universe"
   ]
  },
  {
   "cell_type": "code",
   "execution_count": 3,
   "metadata": {},
   "outputs": [],
   "source": [
    "# the Coordinates class\n",
    "x = Coordinates('\\chi', [t, x, y, z])\n",
    "\n",
    "## define a matrix equal to the metric\n",
    "b = (6*sp.pi*G*rho0)**sp.Rational(1,3)\n",
    "a = b*t**n\n",
    "Metric = diag(-1,a**2,a**2,a**2)\n",
    "\n",
    "## create the metric\n",
    "g = MetricTensor('g', x, Metric)\n",
    "\n",
    "## create the Christoffel symbols\n",
    "Ga = Christoffel('Ga', g)\n",
    "\n",
    "## The Riemann tensor\n",
    "Rm = Riemann('Rm', g)"
   ]
  },
  {
   "cell_type": "code",
   "execution_count": 4,
   "metadata": {},
   "outputs": [
    {
     "data": {
      "image/png": "[encoded data removed]",
      "text/latex": [
       "$\\displaystyle \\left[\\begin{matrix}-1 & 0 & 0 & 0\\\\0 & 6^{\\frac{2}{3}} \\pi^{\\frac{2}{3}} t^{\\frac{4}{3}} \\left(G \\rho_{0}\\right)^{\\frac{2}{3}} & 0 & 0\\\\0 & 0 & 6^{\\frac{2}{3}} \\pi^{\\frac{2}{3}} t^{\\frac{4}{3}} \\left(G \\rho_{0}\\right)^{\\frac{2}{3}} & 0\\\\0 & 0 & 0 & 6^{\\frac{2}{3}} \\pi^{\\frac{2}{3}} t^{\\frac{4}{3}} \\left(G \\rho_{0}\\right)^{\\frac{2}{3}}\\end{matrix}\\right]$"
      ],
      "text/plain": [
       "⎡-1             0                         0                         0         \n",
       "⎢                                                                             \n",
       "⎢     2/3  2/3  4/3       2/3                                                 \n",
       "⎢0   6   ⋅π   ⋅t   ⋅(G⋅ρ₀)                0                         0         \n",
       "⎢                                                                             \n",
       "⎢                               2/3  2/3  4/3       2/3                       \n",
       "⎢0              0              6   ⋅π   ⋅t   ⋅(G⋅ρ₀)                0         \n",
       "⎢                                                                             \n",
       "⎢                                                         2/3  2/3  4/3       \n",
       "⎣0              0                         0              6   ⋅π   ⋅t   ⋅(G⋅ρ₀)\n",
       "\n",
       "   ⎤\n",
       "   ⎥\n",
       "   ⎥\n",
       "   ⎥\n",
       "   ⎥\n",
       "   ⎥\n",
       "   ⎥\n",
       "   ⎥\n",
       "2/3⎥\n",
       "   ⎦"
      ]
     },
     "execution_count": 4,
     "metadata": {},
     "output_type": "execute_result"
    }
   ],
   "source": [
    "## show the metric\n",
    "g(All,All)"
   ]
  },
  {
   "cell_type": "code",
   "execution_count": 5,
   "metadata": {},
   "outputs": [],
   "source": [
    "## the left hand side of LGT \n",
    "## divergence of the Riemann tensor\n",
    "DRm = lambda i, k, l:\\\n",
    "(\\\n",
    " ## i,j,k,l are the Riemann tensor indices \n",
    " ## Note: here the convention of the paper is not followed\n",
    " ## Indices refer to space-time and not Lorentz frame\n",
    " ## m is the component of the covariant derivative\n",
    " ## -m and -j means the inverse metric g^{mj} is used not g_{mj}\n",
    " sum(Rm.covariantD(i, j, k, l, m)*g(-m,-j)\\\n",
    "      for m, j in list(variations(range(1,5),2,True))\\\n",
    " )\\\n",
    ").simplify()"
   ]
  },
  {
   "cell_type": "code",
   "execution_count": 6,
   "metadata": {},
   "outputs": [],
   "source": [
    "## introduce the density and pressure\n",
    "rho = rho0/a**3\n",
    "p   = 0"
   ]
  },
  {
   "cell_type": "code",
   "execution_count": 7,
   "metadata": {},
   "outputs": [],
   "source": [
    "## Create the energy-momentum tensor\n",
    "## first make a matrix\n",
    "T_temp = diag(-rho,p,p,p)"
   ]
  },
  {
   "cell_type": "code",
   "execution_count": 8,
   "metadata": {},
   "outputs": [],
   "source": [
    "## convert the matrix to T^{\\mu}_{\\nu}\n",
    "T = Tensor('T',2,g,components=T_temp,components_type=(-1,1))"
   ]
  },
  {
   "cell_type": "code",
   "execution_count": 9,
   "metadata": {
    "scrolled": true
   },
   "outputs": [
    {
     "data": {
      "image/png": "[encoded data removed]",
      "text/latex": [
       "$\\displaystyle \\left[\\begin{matrix}\\frac{1}{6 \\pi G t^{2}} & 0 & 0 & 0\\\\0 & 0 & 0 & 0\\\\0 & 0 & 0 & 0\\\\0 & 0 & 0 & 0\\end{matrix}\\right]$"
      ],
      "text/plain": [
       "⎡   1             ⎤\n",
       "⎢────────  0  0  0⎥\n",
       "⎢       2         ⎥\n",
       "⎢6⋅π⋅G⋅t          ⎥\n",
       "⎢                 ⎥\n",
       "⎢   0      0  0  0⎥\n",
       "⎢                 ⎥\n",
       "⎢   0      0  0  0⎥\n",
       "⎢                 ⎥\n",
       "⎣   0      0  0  0⎦"
      ]
     },
     "execution_count": 9,
     "metadata": {},
     "output_type": "execute_result"
    }
   ],
   "source": [
    "## display the energy-momentum tensor\n",
    "T(All,All)"
   ]
  },
  {
   "cell_type": "code",
   "execution_count": 10,
   "metadata": {},
   "outputs": [],
   "source": [
    "## the right hand side of LGT field equation\n",
    "## LGT source \n",
    "J = lambda i, k, l: -4*sp.pi*G*(\\\n",
    "                    T.covariantD(i,k,l) - T.covariantD(i,l,k)\\\n",
    "                               )"
   ]
  },
  {
   "cell_type": "code",
   "execution_count": 11,
   "metadata": {
    "scrolled": true
   },
   "outputs": [
    {
     "data": {
      "text/latex": [
       "$\\displaystyle J_{212}:$"
      ],
      "text/plain": [
       "<IPython.core.display.Math object>"
      ]
     },
     "metadata": {},
     "output_type": "display_data"
    },
    {
     "data": {
      "image/png": "[encoded data removed]",
      "text/latex": [
       "$\\displaystyle \\frac{4 \\cdot 6^{\\frac{2}{3}} \\pi^{\\frac{2}{3}} \\left(G \\rho_{0}\\right)^{\\frac{2}{3}}}{9 t^{\\frac{5}{3}}}$"
      ],
      "text/plain": [
       "   2/3  2/3       2/3\n",
       "4⋅6   ⋅π   ⋅(G⋅ρ₀)   \n",
       "─────────────────────\n",
       "           5/3       \n",
       "        9⋅t          "
      ]
     },
     "metadata": {},
     "output_type": "display_data"
    },
    {
     "data": {
      "text/latex": [
       "$\\displaystyle \\nabla^{\\nu}R_{2\\nu12}-J_{212}:$"
      ],
      "text/plain": [
       "<IPython.core.display.Math object>"
      ]
     },
     "metadata": {},
     "output_type": "display_data"
    },
    {
     "data": {
      "image/png": "[encoded data removed]",
      "text/latex": [
       "$\\displaystyle 0$"
      ],
      "text/plain": [
       "0"
      ]
     },
     "metadata": {},
     "output_type": "display_data"
    },
    {
     "name": "stdout",
     "output_type": "stream",
     "text": [
      "--\n"
     ]
    },
    {
     "data": {
      "text/latex": [
       "$\\displaystyle J_{221}:$"
      ],
      "text/plain": [
       "<IPython.core.display.Math object>"
      ]
     },
     "metadata": {},
     "output_type": "display_data"
    },
    {
     "data": {
      "image/png": "[encoded data removed]",
      "text/latex": [
       "$\\displaystyle - \\frac{4 \\cdot 6^{\\frac{2}{3}} \\pi^{\\frac{2}{3}} \\left(G \\rho_{0}\\right)^{\\frac{2}{3}}}{9 t^{\\frac{5}{3}}}$"
      ],
      "text/plain": [
       "    2/3  2/3       2/3 \n",
       "-4⋅6   ⋅π   ⋅(G⋅ρ₀)    \n",
       "───────────────────────\n",
       "            5/3        \n",
       "         9⋅t           "
      ]
     },
     "metadata": {},
     "output_type": "display_data"
    },
    {
     "data": {
      "text/latex": [
       "$\\displaystyle \\nabla^{\\nu}R_{2\\nu21}-J_{221}:$"
      ],
      "text/plain": [
       "<IPython.core.display.Math object>"
      ]
     },
     "metadata": {},
     "output_type": "display_data"
    },
    {
     "data": {
      "image/png": "[encoded data removed]",
      "text/latex": [
       "$\\displaystyle 0$"
      ],
      "text/plain": [
       "0"
      ]
     },
     "metadata": {},
     "output_type": "display_data"
    },
    {
     "name": "stdout",
     "output_type": "stream",
     "text": [
      "--\n"
     ]
    },
    {
     "data": {
      "text/latex": [
       "$\\displaystyle J_{313}:$"
      ],
      "text/plain": [
       "<IPython.core.display.Math object>"
      ]
     },
     "metadata": {},
     "output_type": "display_data"
    },
    {
     "data": {
      "image/png": "[encoded data removed]",
      "text/latex": [
       "$\\displaystyle \\frac{4 \\cdot 6^{\\frac{2}{3}} \\pi^{\\frac{2}{3}} \\left(G \\rho_{0}\\right)^{\\frac{2}{3}}}{9 t^{\\frac{5}{3}}}$"
      ],
      "text/plain": [
       "   2/3  2/3       2/3\n",
       "4⋅6   ⋅π   ⋅(G⋅ρ₀)   \n",
       "─────────────────────\n",
       "           5/3       \n",
       "        9⋅t          "
      ]
     },
     "metadata": {},
     "output_type": "display_data"
    },
    {
     "data": {
      "text/latex": [
       "$\\displaystyle \\nabla^{\\nu}R_{3\\nu13}-J_{313}:$"
      ],
      "text/plain": [
       "<IPython.core.display.Math object>"
      ]
     },
     "metadata": {},
     "output_type": "display_data"
    },
    {
     "data": {
      "image/png": "[encoded data removed]",
      "text/latex": [
       "$\\displaystyle 0$"
      ],
      "text/plain": [
       "0"
      ]
     },
     "metadata": {},
     "output_type": "display_data"
    },
    {
     "name": "stdout",
     "output_type": "stream",
     "text": [
      "--\n"
     ]
    },
    {
     "data": {
      "text/latex": [
       "$\\displaystyle J_{331}:$"
      ],
      "text/plain": [
       "<IPython.core.display.Math object>"
      ]
     },
     "metadata": {},
     "output_type": "display_data"
    },
    {
     "data": {
      "image/png": "[encoded data removed]",
      "text/latex": [
       "$\\displaystyle - \\frac{4 \\cdot 6^{\\frac{2}{3}} \\pi^{\\frac{2}{3}} \\left(G \\rho_{0}\\right)^{\\frac{2}{3}}}{9 t^{\\frac{5}{3}}}$"
      ],
      "text/plain": [
       "    2/3  2/3       2/3 \n",
       "-4⋅6   ⋅π   ⋅(G⋅ρ₀)    \n",
       "───────────────────────\n",
       "            5/3        \n",
       "         9⋅t           "
      ]
     },
     "metadata": {},
     "output_type": "display_data"
    },
    {
     "data": {
      "text/latex": [
       "$\\displaystyle \\nabla^{\\nu}R_{3\\nu31}-J_{331}:$"
      ],
      "text/plain": [
       "<IPython.core.display.Math object>"
      ]
     },
     "metadata": {},
     "output_type": "display_data"
    },
    {
     "data": {
      "image/png": "[encoded data removed]",
      "text/latex": [
       "$\\displaystyle 0$"
      ],
      "text/plain": [
       "0"
      ]
     },
     "metadata": {},
     "output_type": "display_data"
    },
    {
     "name": "stdout",
     "output_type": "stream",
     "text": [
      "--\n"
     ]
    },
    {
     "data": {
      "text/latex": [
       "$\\displaystyle J_{414}:$"
      ],
      "text/plain": [
       "<IPython.core.display.Math object>"
      ]
     },
     "metadata": {},
     "output_type": "display_data"
    },
    {
     "data": {
      "image/png": "[encoded data removed]",
      "text/latex": [
       "$\\displaystyle \\frac{4 \\cdot 6^{\\frac{2}{3}} \\pi^{\\frac{2}{3}} \\left(G \\rho_{0}\\right)^{\\frac{2}{3}}}{9 t^{\\frac{5}{3}}}$"
      ],
      "text/plain": [
       "   2/3  2/3       2/3\n",
       "4⋅6   ⋅π   ⋅(G⋅ρ₀)   \n",
       "─────────────────────\n",
       "           5/3       \n",
       "        9⋅t          "
      ]
     },
     "metadata": {},
     "output_type": "display_data"
    },
    {
     "data": {
      "text/latex": [
       "$\\displaystyle \\nabla^{\\nu}R_{4\\nu14}-J_{414}:$"
      ],
      "text/plain": [
       "<IPython.core.display.Math object>"
      ]
     },
     "metadata": {},
     "output_type": "display_data"
    },
    {
     "data": {
      "image/png": "[encoded data removed]",
      "text/latex": [
       "$\\displaystyle 0$"
      ],
      "text/plain": [
       "0"
      ]
     },
     "metadata": {},
     "output_type": "display_data"
    },
    {
     "name": "stdout",
     "output_type": "stream",
     "text": [
      "--\n"
     ]
    },
    {
     "data": {
      "text/latex": [
       "$\\displaystyle J_{441}:$"
      ],
      "text/plain": [
       "<IPython.core.display.Math object>"
      ]
     },
     "metadata": {},
     "output_type": "display_data"
    },
    {
     "data": {
      "image/png": "[encoded data removed]",
      "text/latex": [
       "$\\displaystyle - \\frac{4 \\cdot 6^{\\frac{2}{3}} \\pi^{\\frac{2}{3}} \\left(G \\rho_{0}\\right)^{\\frac{2}{3}}}{9 t^{\\frac{5}{3}}}$"
      ],
      "text/plain": [
       "    2/3  2/3       2/3 \n",
       "-4⋅6   ⋅π   ⋅(G⋅ρ₀)    \n",
       "───────────────────────\n",
       "            5/3        \n",
       "         9⋅t           "
      ]
     },
     "metadata": {},
     "output_type": "display_data"
    },
    {
     "data": {
      "text/latex": [
       "$\\displaystyle \\nabla^{\\nu}R_{4\\nu41}-J_{441}:$"
      ],
      "text/plain": [
       "<IPython.core.display.Math object>"
      ]
     },
     "metadata": {},
     "output_type": "display_data"
    },
    {
     "data": {
      "image/png": "[encoded data removed]",
      "text/latex": [
       "$\\displaystyle 0$"
      ],
      "text/plain": [
       "0"
      ]
     },
     "metadata": {},
     "output_type": "display_data"
    },
    {
     "name": "stdout",
     "output_type": "stream",
     "text": [
      "--\n"
     ]
    }
   ],
   "source": [
    "## display the source and\n",
    "## make sure the metric is the solution of LGT\n",
    "for i, k, l in list(variations(range(1, 5), 3, True)):\n",
    "    val = (DRm(i,k,l) - J(i,k,l)).simplify()\n",
    "    if J(i,k,l) != 0:\n",
    "        display(Math(r'$J_{%d%d%d}:$'%(i,k,l)),(J(i,k,l)).simplify())\n",
    "        display(Math(r'\\nabla^{\\nu}R_{%d\\nu%d%d}-J_{%d%d%d}:'\\\n",
    "                     %(i,k,l,i,k,l)),val)\n",
    "        print(\"--\")\n",
    "    \n"
   ]
  },
  {
   "cell_type": "code",
   "execution_count": 12,
   "metadata": {},
   "outputs": [
    {
     "data": {
      "text/plain": [
       "True"
      ]
     },
     "execution_count": 12,
     "metadata": {},
     "output_type": "execute_result"
    }
   ],
   "source": [
    "## make sure that all of the components of the\n",
    "## divergence of the Riemann tensor are zero\n",
    "not any([(DRm(i,k,l)-J(i,k,l)).simplify()\\\n",
    "         for i, k, l in list(variations(range(1, 5), 3, True))])"
   ]
  }
 ],
 "metadata": {
  "kernelspec": {
   "display_name": "Python 3",
   "language": "python",
   "name": "python3"
  },
  "language_info": {
   "codemirror_mode": {
    "name": "ipython",
    "version": 3
   },
   "file_extension": ".py",
   "mimetype": "text/x-python",
   "name": "python",
   "nbconvert_exporter": "python",
   "pygments_lexer": "ipython3",
   "version": "3.7.4"
  }
 },
 "nbformat": 4,
 "nbformat_minor": 2
}
